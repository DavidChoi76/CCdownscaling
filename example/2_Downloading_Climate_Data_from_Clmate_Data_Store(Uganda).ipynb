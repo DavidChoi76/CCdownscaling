{
 "cells": [
  {
   "cell_type": "markdown",
   "id": "1f354130",
   "metadata": {},
   "source": [
    "# Downloading Climate Data from Climate Data Store "
   ]
  },
  {
   "cell_type": "markdown",
   "id": "21f3fd20",
   "metadata": {},
   "source": [
    "* For setting up the API key, please follow the link below.  \n",
    "\n",
    "https://confluence.ecmwf.int/display/CKB/How+to+install+and+use+CDS+API+on+Windows\n",
    "    \n",
    "https://cds.climate.copernicus.eu/api-how-to    "
   ]
  },
  {
   "cell_type": "code",
   "execution_count": 1,
   "id": "2905b1bf",
   "metadata": {},
   "outputs": [],
   "source": [
    "# import cdsapi to download climate data using API\n",
    "import cdsapi\n",
    "\n",
    "c = cdsapi.Client()"
   ]
  },
  {
   "cell_type": "markdown",
   "id": "738c0049",
   "metadata": {},
   "source": [
    "## 1. Download Historical GCM data"
   ]
  },
  {
   "cell_type": "markdown",
   "id": "fa8cfeb7",
   "metadata": {},
   "source": [
    "### 1.1 Set Temporal Resolution"
   ]
  },
  {
   "cell_type": "markdown",
   "id": "853e174c",
   "metadata": {},
   "source": [
    "<img src=\"./figures/CMIP6_1.PNG\" width=\"1100\">"
   ]
  },
  {
   "cell_type": "code",
   "execution_count": 2,
   "id": "c048e2f7",
   "metadata": {},
   "outputs": [],
   "source": [
    "temporal_resolution = \"daily\""
   ]
  },
  {
   "cell_type": "markdown",
   "id": "fa8f8c08",
   "metadata": {},
   "source": [
    "### 1.2 Set Experiment \"Historical\""
   ]
  },
  {
   "cell_type": "markdown",
   "id": "820f639a",
   "metadata": {},
   "source": [
    "<img src=\"./figures/CMIP6_2.PNG\" width=\"1100\">"
   ]
  },
  {
   "cell_type": "code",
   "execution_count": 3,
   "id": "5dfadbb6",
   "metadata": {},
   "outputs": [],
   "source": [
    "experiment = 'historical'"
   ]
  },
  {
   "cell_type": "markdown",
   "id": "85a0e626",
   "metadata": {},
   "source": [
    "### 1.3 Set Level"
   ]
  },
  {
   "cell_type": "markdown",
   "id": "c518432c",
   "metadata": {},
   "source": [
    "<img src=\"./figures/CMIP6_3.PNG\" width=\"1100\">"
   ]
  },
  {
   "cell_type": "code",
   "execution_count": 4,
   "id": "85979721",
   "metadata": {},
   "outputs": [],
   "source": [
    "level = \"single_levels\"     "
   ]
  },
  {
   "cell_type": "markdown",
   "id": "77cc0e61",
   "metadata": {},
   "source": [
    "### 1.4 Set Variable (example: precipitation)"
   ]
  },
  {
   "cell_type": "markdown",
   "id": "2dfaec86",
   "metadata": {},
   "source": [
    "<img src=\"./figures/CMIP6_4.PNG\" width=\"1100\">"
   ]
  },
  {
   "cell_type": "code",
   "execution_count": 5,
   "id": "e34947d9",
   "metadata": {},
   "outputs": [],
   "source": [
    "variable = 'precipitation',"
   ]
  },
  {
   "cell_type": "markdown",
   "id": "c77ca1ea",
   "metadata": {},
   "source": [
    "### 1.5 Set Model (example:EC-Earth3-Veg-LR(Europe))"
   ]
  },
  {
   "cell_type": "markdown",
   "id": "cb593489",
   "metadata": {},
   "source": [
    "<img src=\"./figures/CMIP6_5.PNG\" width=\"1100\">"
   ]
  },
  {
   "cell_type": "code",
   "execution_count": 9,
   "id": "cc19c4d9",
   "metadata": {},
   "outputs": [],
   "source": [
    "model =  'ec_earth3_veg_lr'"
   ]
  },
  {
   "cell_type": "markdown",
   "id": "b8f878bc",
   "metadata": {},
   "source": [
    "### 1.6 Set Temporal subset\n",
    "\n",
    " * if you set \"Whole available temporal range\", you don't need to set temporal subset in api command."
   ]
  },
  {
   "cell_type": "markdown",
   "id": "95dd46ae",
   "metadata": {},
   "source": [
    "<img src=\"./figures/CMIP6_6.PNG\" width=\"1100\">"
   ]
  },
  {
   "cell_type": "markdown",
   "id": "c9edb620",
   "metadata": {},
   "source": [
    "### 7. Set Geographical Area (example: Uganda - North:6, South:-3, West:27, East:37)"
   ]
  },
  {
   "cell_type": "markdown",
   "id": "693f0efe",
   "metadata": {},
   "source": [
    "<img src=\"./figures/CMIP6_7.PNG\" width=\"1100\">"
   ]
  },
  {
   "cell_type": "code",
   "execution_count": 7,
   "id": "645d74b7",
   "metadata": {},
   "outputs": [],
   "source": [
    "area = [6, 27, -3, 37, ]"
   ]
  },
  {
   "cell_type": "code",
   "execution_count": 10,
   "id": "4043af87",
   "metadata": {},
   "outputs": [
    {
     "name": "stderr",
     "output_type": "stream",
     "text": [
      "2022-08-19 09:18:44,253 INFO Welcome to the CDS\n",
      "2022-08-19 09:18:44,255 INFO Sending request to https://cds.climate.copernicus.eu/api/v2/resources/projections-cmip6\n",
      "2022-08-19 09:18:44,569 INFO Request is queued\n",
      "2022-08-19 09:18:45,880 INFO Request is running\n",
      "2022-08-19 09:23:07,101 INFO Request is completed\n",
      "2022-08-19 09:23:07,103 INFO Downloading https://download-0004-clone.copernicus-climate.eu/cache-compute-0004/cache/data5/adaptor.esgf_wps.retrieve-1660868499.2937317-14945-20-a9cfd428-904c-4413-b7d4-155e49e2c254.zip to uganda_kampala_gcm_historical.zip (11.9M)\n",
      "2022-08-19 09:23:20,878 INFO Download rate 887.3K/s \n"
     ]
    },
    {
     "data": {
      "text/plain": [
       "Result(content_length=12512509,content_type=application/zip,location=https://download-0004-clone.copernicus-climate.eu/cache-compute-0004/cache/data5/adaptor.esgf_wps.retrieve-1660868499.2937317-14945-20-a9cfd428-904c-4413-b7d4-155e49e2c254.zip)"
      ]
     },
     "execution_count": 10,
     "metadata": {},
     "output_type": "execute_result"
    }
   ],
   "source": [
    "c.retrieve(\n",
    "    'projections-cmip6',\n",
    "    {\n",
    "        'format': 'zip',\n",
    "        'temporal_resolution': temporal_resolution,\n",
    "        'experiment': experiment,\n",
    "        'level': level,\n",
    "        'variable': variable,\n",
    "        'model': model,\n",
    "        'area': area,\n",
    "    },\n",
    "    'uganda_kampala_gcm_historical.zip')"
   ]
  },
  {
   "cell_type": "code",
   "execution_count": null,
   "id": "9a416921",
   "metadata": {},
   "outputs": [],
   "source": []
  },
  {
   "cell_type": "markdown",
   "id": "94c449eb",
   "metadata": {},
   "source": [
    "## 2. Download GCM SSP Scenario data"
   ]
  },
  {
   "cell_type": "markdown",
   "id": "06f3ac6a",
   "metadata": {},
   "source": [
    "### 2.1 Set Temporal Resolution"
   ]
  },
  {
   "cell_type": "markdown",
   "id": "e946d195",
   "metadata": {},
   "source": [
    "<img src=\"./figures/CMIP6_1.PNG\" width=\"1100\">"
   ]
  },
  {
   "cell_type": "code",
   "execution_count": 12,
   "id": "94d4c2aa",
   "metadata": {},
   "outputs": [],
   "source": [
    "temporal_resolution = \"daily\""
   ]
  },
  {
   "cell_type": "markdown",
   "id": "3952c776",
   "metadata": {},
   "source": [
    "### 2.2 Set Experiment \"SSP3-7.0\""
   ]
  },
  {
   "cell_type": "markdown",
   "id": "ec996ef3",
   "metadata": {},
   "source": [
    "<img src=\"./figures/CMIP6_2.PNG\" width=\"1100\">"
   ]
  },
  {
   "cell_type": "code",
   "execution_count": 22,
   "id": "574b4b7e",
   "metadata": {},
   "outputs": [],
   "source": [
    "experiment = 'ssp3_7_0'"
   ]
  },
  {
   "cell_type": "markdown",
   "id": "b724e6c6",
   "metadata": {},
   "source": [
    "### 1.3 Set Level"
   ]
  },
  {
   "cell_type": "markdown",
   "id": "2737d2c6",
   "metadata": {},
   "source": [
    "<img src=\"./figures/CMIP6_3.PNG\" width=\"1100\">"
   ]
  },
  {
   "cell_type": "code",
   "execution_count": 14,
   "id": "7f056778",
   "metadata": {},
   "outputs": [],
   "source": [
    "level = \"single_levels\"     "
   ]
  },
  {
   "cell_type": "markdown",
   "id": "1f2fdc0c",
   "metadata": {},
   "source": [
    "### 1.4 Set Variable (example: precipitation)"
   ]
  },
  {
   "cell_type": "markdown",
   "id": "729dfd14",
   "metadata": {},
   "source": [
    "<img src=\"./figures/CMIP6_4.PNG\" width=\"1100\">"
   ]
  },
  {
   "cell_type": "code",
   "execution_count": 15,
   "id": "559e1a16",
   "metadata": {},
   "outputs": [],
   "source": [
    "variable = 'precipitation',"
   ]
  },
  {
   "cell_type": "markdown",
   "id": "9402f815",
   "metadata": {},
   "source": [
    "### 1.5 Set Model (example: HadGEM3-GC31-MM(UK))"
   ]
  },
  {
   "cell_type": "markdown",
   "id": "e91b6665",
   "metadata": {},
   "source": [
    "<img src=\"./figures/CMIP6_5.PNG\" width=\"1100\">"
   ]
  },
  {
   "cell_type": "code",
   "execution_count": 16,
   "id": "c7158424",
   "metadata": {},
   "outputs": [],
   "source": [
    "model =  'ec_earth3_veg_lr'"
   ]
  },
  {
   "cell_type": "markdown",
   "id": "2a66baa6",
   "metadata": {},
   "source": [
    "### 1.6 Set Temporal subset: 2022-01-01 ~ 2100-12-31\n",
    "\n",
    " * Set \"Temporal range\""
   ]
  },
  {
   "cell_type": "markdown",
   "id": "a0d2118f",
   "metadata": {},
   "source": [
    "<img src=\"./figures/CMIP6_6.PNG\" width=\"1100\">"
   ]
  },
  {
   "cell_type": "markdown",
   "id": "d5a73228",
   "metadata": {},
   "source": [
    "### 7. Set Geographical Area (example: Uganda - North:6, South:-3, West:27, East:37)"
   ]
  },
  {
   "cell_type": "markdown",
   "id": "24fb1cce",
   "metadata": {},
   "source": [
    "<img src=\"./figures/CMIP6_7.PNG\" width=\"1100\">"
   ]
  },
  {
   "cell_type": "code",
   "execution_count": 17,
   "id": "62e21896",
   "metadata": {},
   "outputs": [],
   "source": [
    "area = [6, 27, -3, 37, ]"
   ]
  },
  {
   "cell_type": "code",
   "execution_count": 23,
   "id": "46cf18d8",
   "metadata": {},
   "outputs": [
    {
     "name": "stderr",
     "output_type": "stream",
     "text": [
      "2022-08-19 09:27:36,063 INFO Welcome to the CDS\n",
      "2022-08-19 09:27:36,065 INFO Sending request to https://cds.climate.copernicus.eu/api/v2/resources/projections-cmip6\n",
      "2022-08-19 09:27:36,388 INFO Request is queued\n",
      "2022-08-19 09:27:37,714 INFO Request is running\n",
      "2022-08-19 09:30:31,337 INFO Request is completed\n",
      "2022-08-19 09:30:31,338 INFO Downloading https://download-0021.copernicus-climate.eu/cache-compute-0021/cache/data7/adaptor.esgf_wps.retrieve-1660868973.9654913-30186-19-d67b4e92-744b-40b0-8570-cfbc261092e6.zip to uganda_kampala_gcm_ssp3.zip (5.6M)\n",
      "2022-08-19 09:30:39,094 INFO Download rate 740.2K/s \n"
     ]
    },
    {
     "data": {
      "text/plain": [
       "Result(content_length=5878835,content_type=application/zip,location=https://download-0021.copernicus-climate.eu/cache-compute-0021/cache/data7/adaptor.esgf_wps.retrieve-1660868973.9654913-30186-19-d67b4e92-744b-40b0-8570-cfbc261092e6.zip)"
      ]
     },
     "execution_count": 23,
     "metadata": {},
     "output_type": "execute_result"
    }
   ],
   "source": [
    "c.retrieve(\n",
    "    'projections-cmip6',\n",
    "    {\n",
    "        'format': 'zip',\n",
    "        'temporal_resolution': temporal_resolution,\n",
    "        'experiment': experiment,\n",
    "        'level': level,\n",
    "        'variable': variable,\n",
    "        'model': model,\n",
    "        'date': '2022-01-01/2100-12-31',\n",
    "        'area': area,\n",
    "    },\n",
    "    'uganda_kampala_gcm_ssp3.zip')"
   ]
  },
  {
   "cell_type": "code",
   "execution_count": null,
   "id": "145a4208",
   "metadata": {},
   "outputs": [],
   "source": []
  }
 ],
 "metadata": {
  "kernelspec": {
   "display_name": "Python 3.7.12 ('ccdown')",
   "language": "python",
   "name": "python3"
  },
  "language_info": {
   "codemirror_mode": {
    "name": "ipython",
    "version": 3
   },
   "file_extension": ".py",
   "mimetype": "text/x-python",
   "name": "python",
   "nbconvert_exporter": "python",
   "pygments_lexer": "ipython3",
   "version": "3.7.12"
  },
  "vscode": {
   "interpreter": {
    "hash": "6da62e51a3e154d6d9270ee98e56fb6b92435542159668c3a97bc246d2a4f9f1"
   }
  }
 },
 "nbformat": 4,
 "nbformat_minor": 5
}
