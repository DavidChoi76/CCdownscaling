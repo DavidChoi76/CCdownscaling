{
 "cells": [
  {
   "cell_type": "markdown",
   "id": "1f354130",
   "metadata": {},
   "source": [
    "# Downloading Climate Data from Climate Data Store "
   ]
  },
  {
   "cell_type": "markdown",
   "id": "21f3fd20",
   "metadata": {},
   "source": [
    "* This notebook was developed to download Climate data that is produced for AR6 report using API from Climate Data Store. https://cds.climate.copernicus.eu/cdsapp#!/dataset/projections-cmip6?tab=form\n",
    "\n",
    "* I added my API key in this GitHub. If you set up the your own API key, please follow the link below.  \n",
    "\n",
    "    https://confluence.ecmwf.int/display/CKB/How+to+install+and+use+CDS+API+on+Windows\n",
    "    \n",
    "    https://cds.climate.copernicus.eu/api-how-to    "
   ]
  },
  {
   "cell_type": "code",
   "execution_count": 1,
   "id": "2905b1bf",
   "metadata": {
    "tags": []
   },
   "outputs": [],
   "source": [
    "# import cdsapi to download climate data using API\n",
    "import cdsapi\n",
    "\n",
    "c = cdsapi.Client()"
   ]
  },
  {
   "cell_type": "markdown",
   "id": "738c0049",
   "metadata": {},
   "source": [
    "## 1. Download Historical GCM data"
   ]
  },
  {
   "cell_type": "markdown",
   "id": "fa8cfeb7",
   "metadata": {},
   "source": [
    "### 1.1 Set Temporal Resolution"
   ]
  },
  {
   "cell_type": "markdown",
   "id": "853e174c",
   "metadata": {},
   "source": [
    "<img src=\"../figures/CMIP6_1.PNG\" width=\"1100\">"
   ]
  },
  {
   "cell_type": "code",
   "execution_count": 2,
   "id": "c048e2f7",
   "metadata": {
    "tags": []
   },
   "outputs": [],
   "source": [
    "temporal_resolution = \"daily\""
   ]
  },
  {
   "cell_type": "markdown",
   "id": "fa8f8c08",
   "metadata": {},
   "source": [
    "### 1.2 Set Experiment \"Historical\""
   ]
  },
  {
   "cell_type": "markdown",
   "id": "820f639a",
   "metadata": {},
   "source": [
    "<img src=\"../figures/CMIP6_2.PNG\" width=\"1100\">"
   ]
  },
  {
   "cell_type": "code",
   "execution_count": 3,
   "id": "5dfadbb6",
   "metadata": {
    "tags": []
   },
   "outputs": [],
   "source": [
    "experiment = 'historical'"
   ]
  },
  {
   "cell_type": "markdown",
   "id": "85a0e626",
   "metadata": {},
   "source": [
    "### 1.3 Set Level"
   ]
  },
  {
   "cell_type": "markdown",
   "id": "c518432c",
   "metadata": {},
   "source": [
    "<img src=\"../figures/CMIP6_3.PNG\" width=\"1100\">"
   ]
  },
  {
   "cell_type": "code",
   "execution_count": 4,
   "id": "85979721",
   "metadata": {
    "tags": []
   },
   "outputs": [],
   "source": [
    "level = \"single_levels\"     "
   ]
  },
  {
   "cell_type": "markdown",
   "id": "77cc0e61",
   "metadata": {},
   "source": [
    "### 1.4 Set Variable (example: precipitation)"
   ]
  },
  {
   "cell_type": "markdown",
   "id": "2dfaec86",
   "metadata": {},
   "source": [
    "<img src=\"../figures/CMIP6_4.PNG\" width=\"1100\">"
   ]
  },
  {
   "cell_type": "code",
   "execution_count": 5,
   "id": "e34947d9",
   "metadata": {
    "tags": []
   },
   "outputs": [],
   "source": [
    "variable = 'precipitation',"
   ]
  },
  {
   "cell_type": "markdown",
   "id": "c77ca1ea",
   "metadata": {},
   "source": [
    "### 1.5 Set Model (example:EC-Earth3-Veg-LR(Europe))"
   ]
  },
  {
   "cell_type": "markdown",
   "id": "cb593489",
   "metadata": {},
   "source": [
    "<img src=\"../figures/CMIP6_5.PNG\" width=\"1100\">"
   ]
  },
  {
   "cell_type": "code",
   "execution_count": 6,
   "id": "cc19c4d9",
   "metadata": {
    "tags": []
   },
   "outputs": [],
   "source": [
    "model =  'ec_earth3_veg_lr'"
   ]
  },
  {
   "cell_type": "markdown",
   "id": "b8f878bc",
   "metadata": {},
   "source": [
    "### 1.6 Set Temporal subset\n",
    "\n",
    " * if you set \"Whole available temporal range\", you don't need to set temporal subset in api command."
   ]
  },
  {
   "cell_type": "markdown",
   "id": "95dd46ae",
   "metadata": {},
   "source": [
    "<img src=\"../figures/CMIP6_6.PNG\" width=\"1100\">"
   ]
  },
  {
   "cell_type": "markdown",
   "id": "c9edb620",
   "metadata": {},
   "source": [
    "### 7. Set Geographical Area (example: Mozambique Maputo - North:-25, South:-26, West:32, East:33)"
   ]
  },
  {
   "cell_type": "markdown",
   "id": "693f0efe",
   "metadata": {},
   "source": [
    "<img src=\"../figures/CMIP6_7.PNG\" width=\"1100\">"
   ]
  },
  {
   "cell_type": "code",
   "execution_count": 7,
   "id": "645d74b7",
   "metadata": {
    "tags": []
   },
   "outputs": [],
   "source": [
    "area = [-25, 32, -26, 33, ]"
   ]
  },
  {
   "cell_type": "code",
   "execution_count": null,
   "id": "4043af87",
   "metadata": {
    "tags": []
   },
   "outputs": [
    {
     "name": "stderr",
     "output_type": "stream",
     "text": [
      "2023-09-18 01:14:05,600 INFO Welcome to the CDS\n",
      "2023-09-18 01:14:05,602 INFO Sending request to https://cds.climate.copernicus.eu/api/v2/resources/projections-cmip6\n",
      "2023-09-18 01:14:05,911 INFO Request is queued\n",
      "2023-09-18 01:14:06,945 INFO Request is running\n"
     ]
    }
   ],
   "source": [
    "c.retrieve(\n",
    "    'projections-cmip6',\n",
    "    {\n",
    "        'format': 'zip',\n",
    "        'temporal_resolution': temporal_resolution,\n",
    "        'experiment': experiment,\n",
    "        'level': level,\n",
    "        'variable': variable,\n",
    "        'model': model,\n",
    "        'area': area,\n",
    "    },\n",
    "    'Mozambique_Maputo_gcm_historical.zip')"
   ]
  },
  {
   "cell_type": "code",
   "execution_count": null,
   "id": "9a416921",
   "metadata": {},
   "outputs": [],
   "source": [
    "!unzip Mozambique_Maputo_gcm_historical.zip"
   ]
  },
  {
   "cell_type": "code",
   "execution_count": null,
   "id": "59c9f34f-fd4b-4c6d-9058-7ee76bc30796",
   "metadata": {},
   "outputs": [],
   "source": [
    "# read five nc files\n",
    "import xarray as xr\n",
    "reanalysis_data = xr.open_dataset('./Mozambique_Maputo_gcm_historical/pr_day_EC-Earth3-Veg-LR_historical_r1i1p1f1_gr_18500101-20141231_v20200217.nc')\n",
    "reanalysis_data"
   ]
  },
  {
   "cell_type": "code",
   "execution_count": null,
   "id": "47c8614c-ec26-4920-bc56-ed766b6d658c",
   "metadata": {},
   "outputs": [],
   "source": [
    "reanalysis_data['pr'] = reanalysis_data['pr'] * 86400"
   ]
  },
  {
   "cell_type": "code",
   "execution_count": null,
   "id": "99974084-4517-4d27-aedf-b91706f5b86f",
   "metadata": {},
   "outputs": [],
   "source": [
    "import matplotlib.pyplot as plt\n",
    "# plot\n",
    "fig, ax = plt.subplots(figsize=(15,5))\n",
    "x=reanalysis_data.time.values\n",
    "y=reanalysis_data.pr.values[:,0,0]\n",
    "\n",
    "ax.plot(x, y, linewidth=2.0)\n",
    "plt.show()"
   ]
  },
  {
   "cell_type": "markdown",
   "id": "94c449eb",
   "metadata": {},
   "source": [
    "## 2. Download GCM SSP Scenario data"
   ]
  },
  {
   "cell_type": "markdown",
   "id": "06f3ac6a",
   "metadata": {},
   "source": [
    "### 2.1 Set Temporal Resolution"
   ]
  },
  {
   "cell_type": "markdown",
   "id": "e946d195",
   "metadata": {},
   "source": [
    "<img src=\"../figures/CMIP6_1.PNG\" width=\"1100\">"
   ]
  },
  {
   "cell_type": "code",
   "execution_count": null,
   "id": "94d4c2aa",
   "metadata": {},
   "outputs": [],
   "source": [
    "temporal_resolution = \"daily\""
   ]
  },
  {
   "cell_type": "markdown",
   "id": "3952c776",
   "metadata": {},
   "source": [
    "### 2.2 Set Experiment \"SSP3-7.0\""
   ]
  },
  {
   "cell_type": "markdown",
   "id": "ec996ef3",
   "metadata": {},
   "source": [
    "<img src=\"../figures/CMIP6_2.PNG\" width=\"1100\">"
   ]
  },
  {
   "cell_type": "code",
   "execution_count": null,
   "id": "574b4b7e",
   "metadata": {},
   "outputs": [],
   "source": [
    "experiment = 'ssp3_7_0'"
   ]
  },
  {
   "cell_type": "markdown",
   "id": "b724e6c6",
   "metadata": {},
   "source": [
    "### 1.3 Set Level"
   ]
  },
  {
   "cell_type": "markdown",
   "id": "2737d2c6",
   "metadata": {},
   "source": [
    "<img src=\"../figures/CMIP6_3.PNG\" width=\"1100\">"
   ]
  },
  {
   "cell_type": "code",
   "execution_count": null,
   "id": "7f056778",
   "metadata": {},
   "outputs": [],
   "source": [
    "level = \"single_levels\"     "
   ]
  },
  {
   "cell_type": "markdown",
   "id": "1f2fdc0c",
   "metadata": {},
   "source": [
    "### 1.4 Set Variable (example: precipitation)"
   ]
  },
  {
   "cell_type": "markdown",
   "id": "729dfd14",
   "metadata": {},
   "source": [
    "<img src=\"../figures/CMIP6_4.PNG\" width=\"1100\">"
   ]
  },
  {
   "cell_type": "code",
   "execution_count": null,
   "id": "559e1a16",
   "metadata": {},
   "outputs": [],
   "source": [
    "variable = 'precipitation',"
   ]
  },
  {
   "cell_type": "markdown",
   "id": "9402f815",
   "metadata": {},
   "source": [
    "### 1.5 Set Model (example: HadGEM3-GC31-MM(UK))"
   ]
  },
  {
   "cell_type": "markdown",
   "id": "e91b6665",
   "metadata": {},
   "source": [
    "<img src=\"../figures/CMIP6_5.PNG\" width=\"1100\">"
   ]
  },
  {
   "cell_type": "code",
   "execution_count": null,
   "id": "c7158424",
   "metadata": {},
   "outputs": [],
   "source": [
    "model =  'ec_earth3_veg_lr'"
   ]
  },
  {
   "cell_type": "markdown",
   "id": "2a66baa6",
   "metadata": {},
   "source": [
    "### 1.6 Set Temporal subset: 2022-01-01 ~ 2100-12-31\n",
    "\n",
    " * Set \"Temporal range\""
   ]
  },
  {
   "cell_type": "markdown",
   "id": "a0d2118f",
   "metadata": {},
   "source": [
    "<img src=\"../figures/CMIP6_6.PNG\" width=\"1100\">"
   ]
  },
  {
   "cell_type": "markdown",
   "id": "d5a73228",
   "metadata": {},
   "source": [
    "### 7. Set Geographical Area (example: Mozambique Maputo - North:-25, South:-26, West:32, East:33)"
   ]
  },
  {
   "cell_type": "markdown",
   "id": "24fb1cce",
   "metadata": {},
   "source": [
    "<img src=\"../figures/CMIP6_7.PNG\" width=\"1100\">"
   ]
  },
  {
   "cell_type": "code",
   "execution_count": null,
   "id": "62e21896",
   "metadata": {},
   "outputs": [],
   "source": [
    "area = [-25, 32, -26, 33, ]"
   ]
  },
  {
   "cell_type": "code",
   "execution_count": null,
   "id": "46cf18d8",
   "metadata": {},
   "outputs": [],
   "source": [
    "c.retrieve(\n",
    "    'projections-cmip6',\n",
    "    {\n",
    "        'format': 'zip',\n",
    "        'temporal_resolution': temporal_resolution,\n",
    "        'experiment': experiment,\n",
    "        'level': level,\n",
    "        'variable': variable,\n",
    "        'model': model,\n",
    "        'date': '2022-01-01/2100-12-31',\n",
    "        'area': area,\n",
    "    },\n",
    "    'Mozambique_Maputo_gcm_ssp3.zip')"
   ]
  },
  {
   "cell_type": "code",
   "execution_count": null,
   "id": "145a4208",
   "metadata": {},
   "outputs": [],
   "source": []
  }
 ],
 "metadata": {
  "kernelspec": {
   "display_name": "Python 3 (ipykernel)",
   "language": "python",
   "name": "python3"
  },
  "language_info": {
   "codemirror_mode": {
    "name": "ipython",
    "version": 3
   },
   "file_extension": ".py",
   "mimetype": "text/x-python",
   "name": "python",
   "nbconvert_exporter": "python",
   "pygments_lexer": "ipython3",
   "version": "3.7.12"
  },
  "vscode": {
   "interpreter": {
    "hash": "6da62e51a3e154d6d9270ee98e56fb6b92435542159668c3a97bc246d2a4f9f1"
   }
  }
 },
 "nbformat": 4,
 "nbformat_minor": 5
}
