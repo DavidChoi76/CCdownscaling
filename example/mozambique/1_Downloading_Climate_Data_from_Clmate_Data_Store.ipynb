{
 "cells": [
  {
   "cell_type": "markdown",
   "id": "1f354130",
   "metadata": {},
   "source": [
    "# Downloading Climate Data from Climate Data Store "
   ]
  },
  {
   "cell_type": "markdown",
   "id": "21f3fd20",
   "metadata": {},
   "source": [
    "* This notebook was developed to download Climate data that is produced for AR6 report using API from Climate Data Store. https://cds.climate.copernicus.eu/cdsapp#!/dataset/projections-cmip6?tab=form\n",
    "\n",
    "* I added my API key in this GitHub. If you set up the your own API key, please follow the link below.  \n",
    "\n",
    "    https://confluence.ecmwf.int/display/CKB/How+to+install+and+use+CDS+API+on+Windows\n",
    "    \n",
    "    https://cds.climate.copernicus.eu/api-how-to    "
   ]
  },
  {
   "cell_type": "code",
   "execution_count": 1,
   "id": "2905b1bf",
   "metadata": {
    "tags": []
   },
   "outputs": [],
   "source": [
    "# import cdsapi to download climate data using API\n",
    "import cdsapi\n",
    "\n",
    "c = cdsapi.Client()"
   ]
  },
  {
   "cell_type": "markdown",
   "id": "738c0049",
   "metadata": {},
   "source": [
    "## 1. Download Historical GCM data"
   ]
  },
  {
   "cell_type": "markdown",
   "id": "fa8cfeb7",
   "metadata": {},
   "source": [
    "### 1.1 Set Temporal Resolution"
   ]
  },
  {
   "cell_type": "markdown",
   "id": "853e174c",
   "metadata": {},
   "source": [
    "<img src=\"../figures/CMIP6_1.PNG\" width=\"1100\">"
   ]
  },
  {
   "cell_type": "code",
   "execution_count": 2,
   "id": "c048e2f7",
   "metadata": {
    "tags": []
   },
   "outputs": [],
   "source": [
    "temporal_resolution = \"daily\""
   ]
  },
  {
   "cell_type": "markdown",
   "id": "fa8f8c08",
   "metadata": {},
   "source": [
    "### 1.2 Set Experiment \"Historical\""
   ]
  },
  {
   "cell_type": "markdown",
   "id": "820f639a",
   "metadata": {},
   "source": [
    "<img src=\"../figures/CMIP6_2.PNG\" width=\"1100\">"
   ]
  },
  {
   "cell_type": "code",
   "execution_count": 3,
   "id": "5dfadbb6",
   "metadata": {
    "tags": []
   },
   "outputs": [],
   "source": [
    "experiment = 'historical'"
   ]
  },
  {
   "cell_type": "markdown",
   "id": "85a0e626",
   "metadata": {},
   "source": [
    "### 1.3 Set Level"
   ]
  },
  {
   "cell_type": "markdown",
   "id": "c518432c",
   "metadata": {},
   "source": [
    "<img src=\"../figures/CMIP6_3.PNG\" width=\"1100\">"
   ]
  },
  {
   "cell_type": "code",
   "execution_count": 4,
   "id": "85979721",
   "metadata": {
    "tags": []
   },
   "outputs": [],
   "source": [
    "level = \"single_levels\"     "
   ]
  },
  {
   "cell_type": "markdown",
   "id": "77cc0e61",
   "metadata": {},
   "source": [
    "### 1.4 Set Variable (example: precipitation)"
   ]
  },
  {
   "cell_type": "markdown",
   "id": "2dfaec86",
   "metadata": {},
   "source": [
    "<img src=\"../figures/CMIP6_4.PNG\" width=\"1100\">"
   ]
  },
  {
   "cell_type": "code",
   "execution_count": 5,
   "id": "e34947d9",
   "metadata": {
    "tags": []
   },
   "outputs": [],
   "source": [
    "variable = 'precipitation',"
   ]
  },
  {
   "cell_type": "markdown",
   "id": "c77ca1ea",
   "metadata": {},
   "source": [
    "### 1.5 Set Model (example:EC-Earth3-Veg-LR(Europe))"
   ]
  },
  {
   "cell_type": "markdown",
   "id": "cb593489",
   "metadata": {},
   "source": [
    "<img src=\"../figures/CMIP6_5.PNG\" width=\"1100\">"
   ]
  },
  {
   "cell_type": "code",
   "execution_count": 6,
   "id": "cc19c4d9",
   "metadata": {
    "tags": []
   },
   "outputs": [],
   "source": [
    "model =  'ec_earth3_veg_lr'"
   ]
  },
  {
   "cell_type": "markdown",
   "id": "b8f878bc",
   "metadata": {},
   "source": [
    "### 1.6 Set Temporal subset\n",
    "\n",
    " * if you set \"Whole available temporal range\", you don't need to set temporal subset in api command."
   ]
  },
  {
   "cell_type": "markdown",
   "id": "95dd46ae",
   "metadata": {},
   "source": [
    "<img src=\"../figures/CMIP6_6.PNG\" width=\"1100\">"
   ]
  },
  {
   "cell_type": "markdown",
   "id": "c9edb620",
   "metadata": {},
   "source": [
    "### 7. Set Geographical Area (example: Mozambique Maputo - North:-25, South:-26, West:32, East:33)"
   ]
  },
  {
   "cell_type": "markdown",
   "id": "693f0efe",
   "metadata": {},
   "source": [
    "<img src=\"../figures/CMIP6_7.PNG\" width=\"1100\">"
   ]
  },
  {
   "cell_type": "code",
   "execution_count": 7,
   "id": "645d74b7",
   "metadata": {
    "tags": []
   },
   "outputs": [],
   "source": [
    "area = [-25, 32, -26, 33, ]"
   ]
  },
  {
   "cell_type": "code",
   "execution_count": null,
   "id": "4043af87",
   "metadata": {
    "tags": []
   },
   "outputs": [
    {
     "name": "stderr",
     "output_type": "stream",
     "text": [
      "2023-09-18 01:14:05,600 INFO Welcome to the CDS\n",
      "2023-09-18 01:14:05,602 INFO Sending request to https://cds.climate.copernicus.eu/api/v2/resources/projections-cmip6\n",
      "2023-09-18 01:14:05,911 INFO Request is queued\n",
      "2023-09-18 01:14:06,945 INFO Request is running\n"
     ]
    }
   ],
   "source": [
    "c.retrieve(\n",
    "    'projections-cmip6',\n",
    "    {\n",
    "        'format': 'zip',\n",
    "        'temporal_resolution': temporal_resolution,\n",
    "        'experiment': experiment,\n",
    "        'level': level,\n",
    "        'variable': variable,\n",
    "        'model': model,\n",
    "        'area': area,\n",
    "    },\n",
    "    'Mozambique_Maputo_gcm_historical.zip')"
   ]
  },
  {
   "cell_type": "code",
   "execution_count": null,
   "id": "9a416921",
   "metadata": {},
   "outputs": [],
   "source": [
    "!unzip Mozambique_Maputo_gcm_historical.zip"
   ]
  },
  {
   "cell_type": "code",
   "execution_count": 8,
   "id": "59c9f34f-fd4b-4c6d-9058-7ee76bc30796",
   "metadata": {
    "tags": []
   },
   "outputs": [
    {
     "data": {
      "text/html": [
       "<div><svg style=\"position: absolute; width: 0; height: 0; overflow: hidden\">\n",
       "<defs>\n",
       "<symbol id=\"icon-database\" viewBox=\"0 0 32 32\">\n",
       "<path d=\"M16 0c-8.837 0-16 2.239-16 5v4c0 2.761 7.163 5 16 5s16-2.239 16-5v-4c0-2.761-7.163-5-16-5z\"></path>\n",
       "<path d=\"M16 17c-8.837 0-16-2.239-16-5v6c0 2.761 7.163 5 16 5s16-2.239 16-5v-6c0 2.761-7.163 5-16 5z\"></path>\n",
       "<path d=\"M16 26c-8.837 0-16-2.239-16-5v6c0 2.761 7.163 5 16 5s16-2.239 16-5v-6c0 2.761-7.163 5-16 5z\"></path>\n",
       "</symbol>\n",
       "<symbol id=\"icon-file-text2\" viewBox=\"0 0 32 32\">\n",
       "<path d=\"M28.681 7.159c-0.694-0.947-1.662-2.053-2.724-3.116s-2.169-2.030-3.116-2.724c-1.612-1.182-2.393-1.319-2.841-1.319h-15.5c-1.378 0-2.5 1.121-2.5 2.5v27c0 1.378 1.122 2.5 2.5 2.5h23c1.378 0 2.5-1.122 2.5-2.5v-19.5c0-0.448-0.137-1.23-1.319-2.841zM24.543 5.457c0.959 0.959 1.712 1.825 2.268 2.543h-4.811v-4.811c0.718 0.556 1.584 1.309 2.543 2.268zM28 29.5c0 0.271-0.229 0.5-0.5 0.5h-23c-0.271 0-0.5-0.229-0.5-0.5v-27c0-0.271 0.229-0.5 0.5-0.5 0 0 15.499-0 15.5 0v7c0 0.552 0.448 1 1 1h7v19.5z\"></path>\n",
       "<path d=\"M23 26h-14c-0.552 0-1-0.448-1-1s0.448-1 1-1h14c0.552 0 1 0.448 1 1s-0.448 1-1 1z\"></path>\n",
       "<path d=\"M23 22h-14c-0.552 0-1-0.448-1-1s0.448-1 1-1h14c0.552 0 1 0.448 1 1s-0.448 1-1 1z\"></path>\n",
       "<path d=\"M23 18h-14c-0.552 0-1-0.448-1-1s0.448-1 1-1h14c0.552 0 1 0.448 1 1s-0.448 1-1 1z\"></path>\n",
       "</symbol>\n",
       "</defs>\n",
       "</svg>\n",
       "<style>/* CSS stylesheet for displaying xarray objects in jupyterlab.\n",
       " *\n",
       " */\n",
       "\n",
       ":root {\n",
       "  --xr-font-color0: var(--jp-content-font-color0, rgba(0, 0, 0, 1));\n",
       "  --xr-font-color2: var(--jp-content-font-color2, rgba(0, 0, 0, 0.54));\n",
       "  --xr-font-color3: var(--jp-content-font-color3, rgba(0, 0, 0, 0.38));\n",
       "  --xr-border-color: var(--jp-border-color2, #e0e0e0);\n",
       "  --xr-disabled-color: var(--jp-layout-color3, #bdbdbd);\n",
       "  --xr-background-color: var(--jp-layout-color0, white);\n",
       "  --xr-background-color-row-even: var(--jp-layout-color1, white);\n",
       "  --xr-background-color-row-odd: var(--jp-layout-color2, #eeeeee);\n",
       "}\n",
       "\n",
       "html[theme=dark],\n",
       "body.vscode-dark {\n",
       "  --xr-font-color0: rgba(255, 255, 255, 1);\n",
       "  --xr-font-color2: rgba(255, 255, 255, 0.54);\n",
       "  --xr-font-color3: rgba(255, 255, 255, 0.38);\n",
       "  --xr-border-color: #1F1F1F;\n",
       "  --xr-disabled-color: #515151;\n",
       "  --xr-background-color: #111111;\n",
       "  --xr-background-color-row-even: #111111;\n",
       "  --xr-background-color-row-odd: #313131;\n",
       "}\n",
       "\n",
       ".xr-wrap {\n",
       "  display: block !important;\n",
       "  min-width: 300px;\n",
       "  max-width: 700px;\n",
       "}\n",
       "\n",
       ".xr-text-repr-fallback {\n",
       "  /* fallback to plain text repr when CSS is not injected (untrusted notebook) */\n",
       "  display: none;\n",
       "}\n",
       "\n",
       ".xr-header {\n",
       "  padding-top: 6px;\n",
       "  padding-bottom: 6px;\n",
       "  margin-bottom: 4px;\n",
       "  border-bottom: solid 1px var(--xr-border-color);\n",
       "}\n",
       "\n",
       ".xr-header > div,\n",
       ".xr-header > ul {\n",
       "  display: inline;\n",
       "  margin-top: 0;\n",
       "  margin-bottom: 0;\n",
       "}\n",
       "\n",
       ".xr-obj-type,\n",
       ".xr-array-name {\n",
       "  margin-left: 2px;\n",
       "  margin-right: 10px;\n",
       "}\n",
       "\n",
       ".xr-obj-type {\n",
       "  color: var(--xr-font-color2);\n",
       "}\n",
       "\n",
       ".xr-sections {\n",
       "  padding-left: 0 !important;\n",
       "  display: grid;\n",
       "  grid-template-columns: 150px auto auto 1fr 20px 20px;\n",
       "}\n",
       "\n",
       ".xr-section-item {\n",
       "  display: contents;\n",
       "}\n",
       "\n",
       ".xr-section-item input {\n",
       "  display: none;\n",
       "}\n",
       "\n",
       ".xr-section-item input + label {\n",
       "  color: var(--xr-disabled-color);\n",
       "}\n",
       "\n",
       ".xr-section-item input:enabled + label {\n",
       "  cursor: pointer;\n",
       "  color: var(--xr-font-color2);\n",
       "}\n",
       "\n",
       ".xr-section-item input:enabled + label:hover {\n",
       "  color: var(--xr-font-color0);\n",
       "}\n",
       "\n",
       ".xr-section-summary {\n",
       "  grid-column: 1;\n",
       "  color: var(--xr-font-color2);\n",
       "  font-weight: 500;\n",
       "}\n",
       "\n",
       ".xr-section-summary > span {\n",
       "  display: inline-block;\n",
       "  padding-left: 0.5em;\n",
       "}\n",
       "\n",
       ".xr-section-summary-in:disabled + label {\n",
       "  color: var(--xr-font-color2);\n",
       "}\n",
       "\n",
       ".xr-section-summary-in + label:before {\n",
       "  display: inline-block;\n",
       "  content: '►';\n",
       "  font-size: 11px;\n",
       "  width: 15px;\n",
       "  text-align: center;\n",
       "}\n",
       "\n",
       ".xr-section-summary-in:disabled + label:before {\n",
       "  color: var(--xr-disabled-color);\n",
       "}\n",
       "\n",
       ".xr-section-summary-in:checked + label:before {\n",
       "  content: '▼';\n",
       "}\n",
       "\n",
       ".xr-section-summary-in:checked + label > span {\n",
       "  display: none;\n",
       "}\n",
       "\n",
       ".xr-section-summary,\n",
       ".xr-section-inline-details {\n",
       "  padding-top: 4px;\n",
       "  padding-bottom: 4px;\n",
       "}\n",
       "\n",
       ".xr-section-inline-details {\n",
       "  grid-column: 2 / -1;\n",
       "}\n",
       "\n",
       ".xr-section-details {\n",
       "  display: none;\n",
       "  grid-column: 1 / -1;\n",
       "  margin-bottom: 5px;\n",
       "}\n",
       "\n",
       ".xr-section-summary-in:checked ~ .xr-section-details {\n",
       "  display: contents;\n",
       "}\n",
       "\n",
       ".xr-array-wrap {\n",
       "  grid-column: 1 / -1;\n",
       "  display: grid;\n",
       "  grid-template-columns: 20px auto;\n",
       "}\n",
       "\n",
       ".xr-array-wrap > label {\n",
       "  grid-column: 1;\n",
       "  vertical-align: top;\n",
       "}\n",
       "\n",
       ".xr-preview {\n",
       "  color: var(--xr-font-color3);\n",
       "}\n",
       "\n",
       ".xr-array-preview,\n",
       ".xr-array-data {\n",
       "  padding: 0 5px !important;\n",
       "  grid-column: 2;\n",
       "}\n",
       "\n",
       ".xr-array-data,\n",
       ".xr-array-in:checked ~ .xr-array-preview {\n",
       "  display: none;\n",
       "}\n",
       "\n",
       ".xr-array-in:checked ~ .xr-array-data,\n",
       ".xr-array-preview {\n",
       "  display: inline-block;\n",
       "}\n",
       "\n",
       ".xr-dim-list {\n",
       "  display: inline-block !important;\n",
       "  list-style: none;\n",
       "  padding: 0 !important;\n",
       "  margin: 0;\n",
       "}\n",
       "\n",
       ".xr-dim-list li {\n",
       "  display: inline-block;\n",
       "  padding: 0;\n",
       "  margin: 0;\n",
       "}\n",
       "\n",
       ".xr-dim-list:before {\n",
       "  content: '(';\n",
       "}\n",
       "\n",
       ".xr-dim-list:after {\n",
       "  content: ')';\n",
       "}\n",
       "\n",
       ".xr-dim-list li:not(:last-child):after {\n",
       "  content: ',';\n",
       "  padding-right: 5px;\n",
       "}\n",
       "\n",
       ".xr-has-index {\n",
       "  font-weight: bold;\n",
       "}\n",
       "\n",
       ".xr-var-list,\n",
       ".xr-var-item {\n",
       "  display: contents;\n",
       "}\n",
       "\n",
       ".xr-var-item > div,\n",
       ".xr-var-item label,\n",
       ".xr-var-item > .xr-var-name span {\n",
       "  background-color: var(--xr-background-color-row-even);\n",
       "  margin-bottom: 0;\n",
       "}\n",
       "\n",
       ".xr-var-item > .xr-var-name:hover span {\n",
       "  padding-right: 5px;\n",
       "}\n",
       "\n",
       ".xr-var-list > li:nth-child(odd) > div,\n",
       ".xr-var-list > li:nth-child(odd) > label,\n",
       ".xr-var-list > li:nth-child(odd) > .xr-var-name span {\n",
       "  background-color: var(--xr-background-color-row-odd);\n",
       "}\n",
       "\n",
       ".xr-var-name {\n",
       "  grid-column: 1;\n",
       "}\n",
       "\n",
       ".xr-var-dims {\n",
       "  grid-column: 2;\n",
       "}\n",
       "\n",
       ".xr-var-dtype {\n",
       "  grid-column: 3;\n",
       "  text-align: right;\n",
       "  color: var(--xr-font-color2);\n",
       "}\n",
       "\n",
       ".xr-var-preview {\n",
       "  grid-column: 4;\n",
       "}\n",
       "\n",
       ".xr-var-name,\n",
       ".xr-var-dims,\n",
       ".xr-var-dtype,\n",
       ".xr-preview,\n",
       ".xr-attrs dt {\n",
       "  white-space: nowrap;\n",
       "  overflow: hidden;\n",
       "  text-overflow: ellipsis;\n",
       "  padding-right: 10px;\n",
       "}\n",
       "\n",
       ".xr-var-name:hover,\n",
       ".xr-var-dims:hover,\n",
       ".xr-var-dtype:hover,\n",
       ".xr-attrs dt:hover {\n",
       "  overflow: visible;\n",
       "  width: auto;\n",
       "  z-index: 1;\n",
       "}\n",
       "\n",
       ".xr-var-attrs,\n",
       ".xr-var-data {\n",
       "  display: none;\n",
       "  background-color: var(--xr-background-color) !important;\n",
       "  padding-bottom: 5px !important;\n",
       "}\n",
       "\n",
       ".xr-var-attrs-in:checked ~ .xr-var-attrs,\n",
       ".xr-var-data-in:checked ~ .xr-var-data {\n",
       "  display: block;\n",
       "}\n",
       "\n",
       ".xr-var-data > table {\n",
       "  float: right;\n",
       "}\n",
       "\n",
       ".xr-var-name span,\n",
       ".xr-var-data,\n",
       ".xr-attrs {\n",
       "  padding-left: 25px !important;\n",
       "}\n",
       "\n",
       ".xr-attrs,\n",
       ".xr-var-attrs,\n",
       ".xr-var-data {\n",
       "  grid-column: 1 / -1;\n",
       "}\n",
       "\n",
       "dl.xr-attrs {\n",
       "  padding: 0;\n",
       "  margin: 0;\n",
       "  display: grid;\n",
       "  grid-template-columns: 125px auto;\n",
       "}\n",
       "\n",
       ".xr-attrs dt,\n",
       ".xr-attrs dd {\n",
       "  padding: 0;\n",
       "  margin: 0;\n",
       "  float: left;\n",
       "  padding-right: 10px;\n",
       "  width: auto;\n",
       "}\n",
       "\n",
       ".xr-attrs dt {\n",
       "  font-weight: normal;\n",
       "  grid-column: 1;\n",
       "}\n",
       "\n",
       ".xr-attrs dt:hover span {\n",
       "  display: inline-block;\n",
       "  background: var(--xr-background-color);\n",
       "  padding-right: 10px;\n",
       "}\n",
       "\n",
       ".xr-attrs dd {\n",
       "  grid-column: 2;\n",
       "  white-space: pre-wrap;\n",
       "  word-break: break-all;\n",
       "}\n",
       "\n",
       ".xr-icon-database,\n",
       ".xr-icon-file-text2 {\n",
       "  display: inline-block;\n",
       "  vertical-align: middle;\n",
       "  width: 1em;\n",
       "  height: 1.5em !important;\n",
       "  stroke-width: 0;\n",
       "  stroke: currentColor;\n",
       "  fill: currentColor;\n",
       "}\n",
       "</style><pre class='xr-text-repr-fallback'>&lt;xarray.Dataset&gt;\n",
       "Dimensions:    (time: 60265, bnds: 2, lat: 1, lon: 1)\n",
       "Coordinates:\n",
       "  * time       (time) datetime64[ns] 1850-01-01T12:00:00 ... 2014-12-31T12:00:00\n",
       "  * lat        (lat) float64 -25.23\n",
       "  * lon        (lon) float64 32.62\n",
       "Dimensions without coordinates: bnds\n",
       "Data variables:\n",
       "    time_bnds  (time, bnds) datetime64[ns] ...\n",
       "    lat_bnds   (time, lat, bnds) float64 ...\n",
       "    lon_bnds   (time, lon, bnds) float64 ...\n",
       "    pr         (time, lat, lon) float32 5.765e-06 1.078e-05 ... 1.464e-05\n",
       "Attributes: (12/45)\n",
       "    Conventions:            CF-1.7 CMIP-6.2\n",
       "    activity_id:            CMIP\n",
       "    branch_method:          standard\n",
       "    branch_time_in_child:   0.0\n",
       "    contact:                cmip6-data@ec-earth.org\n",
       "    creation_date:          2020-02-17T13:29:51Z\n",
       "    ...                     ...\n",
       "    variable_id:            pr\n",
       "    variant_label:          r1i1p1f1\n",
       "    license:                CMIP6 model data produced by EC-Earth-Consortium ...\n",
       "    cmor_version:           3.5.0\n",
       "    branch_time_in_parent:  164359.0\n",
       "    tracking_id:            hdl:21.14100/037c3f46-ad12-415a-bfaf-812c1bf9662f</pre><div class='xr-wrap' style='display:none'><div class='xr-header'><div class='xr-obj-type'>xarray.Dataset</div></div><ul class='xr-sections'><li class='xr-section-item'><input id='section-780cb0cf-fc13-4360-9988-839f8f9e6594' class='xr-section-summary-in' type='checkbox' disabled ><label for='section-780cb0cf-fc13-4360-9988-839f8f9e6594' class='xr-section-summary'  title='Expand/collapse section'>Dimensions:</label><div class='xr-section-inline-details'><ul class='xr-dim-list'><li><span class='xr-has-index'>time</span>: 60265</li><li><span>bnds</span>: 2</li><li><span class='xr-has-index'>lat</span>: 1</li><li><span class='xr-has-index'>lon</span>: 1</li></ul></div><div class='xr-section-details'></div></li><li class='xr-section-item'><input id='section-aa752075-905f-49c6-8597-97d5a2f31c72' class='xr-section-summary-in' type='checkbox'  checked><label for='section-aa752075-905f-49c6-8597-97d5a2f31c72' class='xr-section-summary' >Coordinates: <span>(3)</span></label><div class='xr-section-inline-details'></div><div class='xr-section-details'><ul class='xr-var-list'><li class='xr-var-item'><div class='xr-var-name'><span class='xr-has-index'>time</span></div><div class='xr-var-dims'>(time)</div><div class='xr-var-dtype'>datetime64[ns]</div><div class='xr-var-preview xr-preview'>1850-01-01T12:00:00 ... 2014-12-...</div><input id='attrs-f584a65f-2716-4eba-883c-9532bb8299e7' class='xr-var-attrs-in' type='checkbox' ><label for='attrs-f584a65f-2716-4eba-883c-9532bb8299e7' title='Show/Hide attributes'><svg class='icon xr-icon-file-text2'><use xlink:href='#icon-file-text2'></use></svg></label><input id='data-d70e50c4-8918-4a81-81d1-0d309688f027' class='xr-var-data-in' type='checkbox'><label for='data-d70e50c4-8918-4a81-81d1-0d309688f027' title='Show/Hide data repr'><svg class='icon xr-icon-database'><use xlink:href='#icon-database'></use></svg></label><div class='xr-var-attrs'><dl class='xr-attrs'><dt><span>long_name :</span></dt><dd>time</dd><dt><span>axis :</span></dt><dd>T</dd><dt><span>standard_name :</span></dt><dd>time</dd><dt><span>bounds :</span></dt><dd>time_bnds</dd></dl></div><div class='xr-var-data'><pre>array([&#x27;1850-01-01T12:00:00.000000000&#x27;, &#x27;1850-01-02T12:00:00.000000000&#x27;,\n",
       "       &#x27;1850-01-03T12:00:00.000000000&#x27;, ..., &#x27;2014-12-29T12:00:00.000000000&#x27;,\n",
       "       &#x27;2014-12-30T12:00:00.000000000&#x27;, &#x27;2014-12-31T12:00:00.000000000&#x27;],\n",
       "      dtype=&#x27;datetime64[ns]&#x27;)</pre></div></li><li class='xr-var-item'><div class='xr-var-name'><span class='xr-has-index'>lat</span></div><div class='xr-var-dims'>(lat)</div><div class='xr-var-dtype'>float64</div><div class='xr-var-preview xr-preview'>-25.23</div><input id='attrs-b0f21b7c-7300-4a3f-a9b2-4f718ac5a6d1' class='xr-var-attrs-in' type='checkbox' ><label for='attrs-b0f21b7c-7300-4a3f-a9b2-4f718ac5a6d1' title='Show/Hide attributes'><svg class='icon xr-icon-file-text2'><use xlink:href='#icon-file-text2'></use></svg></label><input id='data-24350c01-583d-4195-9920-9a05cd6444eb' class='xr-var-data-in' type='checkbox'><label for='data-24350c01-583d-4195-9920-9a05cd6444eb' title='Show/Hide data repr'><svg class='icon xr-icon-database'><use xlink:href='#icon-database'></use></svg></label><div class='xr-var-attrs'><dl class='xr-attrs'><dt><span>long_name :</span></dt><dd>Latitude</dd><dt><span>axis :</span></dt><dd>Y</dd><dt><span>standard_name :</span></dt><dd>latitude</dd><dt><span>bounds :</span></dt><dd>lat_bnds</dd><dt><span>units :</span></dt><dd>degrees_north</dd></dl></div><div class='xr-var-data'><pre>array([-25.233514])</pre></div></li><li class='xr-var-item'><div class='xr-var-name'><span class='xr-has-index'>lon</span></div><div class='xr-var-dims'>(lon)</div><div class='xr-var-dtype'>float64</div><div class='xr-var-preview xr-preview'>32.62</div><input id='attrs-fda37448-7c22-4868-ad88-96623be2779a' class='xr-var-attrs-in' type='checkbox' ><label for='attrs-fda37448-7c22-4868-ad88-96623be2779a' title='Show/Hide attributes'><svg class='icon xr-icon-file-text2'><use xlink:href='#icon-file-text2'></use></svg></label><input id='data-1c6b2064-62f5-456f-a7fa-2d5515956548' class='xr-var-data-in' type='checkbox'><label for='data-1c6b2064-62f5-456f-a7fa-2d5515956548' title='Show/Hide data repr'><svg class='icon xr-icon-database'><use xlink:href='#icon-database'></use></svg></label><div class='xr-var-attrs'><dl class='xr-attrs'><dt><span>long_name :</span></dt><dd>Longitude</dd><dt><span>axis :</span></dt><dd>X</dd><dt><span>standard_name :</span></dt><dd>longitude</dd><dt><span>bounds :</span></dt><dd>lon_bnds</dd><dt><span>units :</span></dt><dd>degrees_east</dd></dl></div><div class='xr-var-data'><pre>array([32.625])</pre></div></li></ul></div></li><li class='xr-section-item'><input id='section-bb522244-cbcc-4ccb-8a8f-75b9dd29f5e1' class='xr-section-summary-in' type='checkbox'  checked><label for='section-bb522244-cbcc-4ccb-8a8f-75b9dd29f5e1' class='xr-section-summary' >Data variables: <span>(4)</span></label><div class='xr-section-inline-details'></div><div class='xr-section-details'><ul class='xr-var-list'><li class='xr-var-item'><div class='xr-var-name'><span>time_bnds</span></div><div class='xr-var-dims'>(time, bnds)</div><div class='xr-var-dtype'>datetime64[ns]</div><div class='xr-var-preview xr-preview'>...</div><input id='attrs-204b0f50-e317-4a44-96e2-9cac6b3d57f8' class='xr-var-attrs-in' type='checkbox' disabled><label for='attrs-204b0f50-e317-4a44-96e2-9cac6b3d57f8' title='Show/Hide attributes'><svg class='icon xr-icon-file-text2'><use xlink:href='#icon-file-text2'></use></svg></label><input id='data-df0ee621-5419-43f9-a871-4af2c0d4e91b' class='xr-var-data-in' type='checkbox'><label for='data-df0ee621-5419-43f9-a871-4af2c0d4e91b' title='Show/Hide data repr'><svg class='icon xr-icon-database'><use xlink:href='#icon-database'></use></svg></label><div class='xr-var-attrs'><dl class='xr-attrs'></dl></div><div class='xr-var-data'><pre>[120530 values with dtype=datetime64[ns]]</pre></div></li><li class='xr-var-item'><div class='xr-var-name'><span>lat_bnds</span></div><div class='xr-var-dims'>(time, lat, bnds)</div><div class='xr-var-dtype'>float64</div><div class='xr-var-preview xr-preview'>...</div><input id='attrs-1f201921-de3e-4ef5-b858-22ab25bb025a' class='xr-var-attrs-in' type='checkbox' disabled><label for='attrs-1f201921-de3e-4ef5-b858-22ab25bb025a' title='Show/Hide attributes'><svg class='icon xr-icon-file-text2'><use xlink:href='#icon-file-text2'></use></svg></label><input id='data-d01b05d7-7c2d-4f1e-97b4-945fdd9fb09c' class='xr-var-data-in' type='checkbox'><label for='data-d01b05d7-7c2d-4f1e-97b4-945fdd9fb09c' title='Show/Hide data repr'><svg class='icon xr-icon-database'><use xlink:href='#icon-database'></use></svg></label><div class='xr-var-attrs'><dl class='xr-attrs'></dl></div><div class='xr-var-data'><pre>[120530 values with dtype=float64]</pre></div></li><li class='xr-var-item'><div class='xr-var-name'><span>lon_bnds</span></div><div class='xr-var-dims'>(time, lon, bnds)</div><div class='xr-var-dtype'>float64</div><div class='xr-var-preview xr-preview'>...</div><input id='attrs-9423430f-7fae-458c-ab40-a443bd634684' class='xr-var-attrs-in' type='checkbox' disabled><label for='attrs-9423430f-7fae-458c-ab40-a443bd634684' title='Show/Hide attributes'><svg class='icon xr-icon-file-text2'><use xlink:href='#icon-file-text2'></use></svg></label><input id='data-52765c91-afde-4e84-96ed-5f29850e8b92' class='xr-var-data-in' type='checkbox'><label for='data-52765c91-afde-4e84-96ed-5f29850e8b92' title='Show/Hide data repr'><svg class='icon xr-icon-database'><use xlink:href='#icon-database'></use></svg></label><div class='xr-var-attrs'><dl class='xr-attrs'></dl></div><div class='xr-var-data'><pre>[120530 values with dtype=float64]</pre></div></li><li class='xr-var-item'><div class='xr-var-name'><span>pr</span></div><div class='xr-var-dims'>(time, lat, lon)</div><div class='xr-var-dtype'>float32</div><div class='xr-var-preview xr-preview'>...</div><input id='attrs-b081dde6-5034-4a00-a23c-153e24363d35' class='xr-var-attrs-in' type='checkbox' ><label for='attrs-b081dde6-5034-4a00-a23c-153e24363d35' title='Show/Hide attributes'><svg class='icon xr-icon-file-text2'><use xlink:href='#icon-file-text2'></use></svg></label><input id='data-7b44e0c4-ce78-48fe-a71a-6a2fc141879d' class='xr-var-data-in' type='checkbox'><label for='data-7b44e0c4-ce78-48fe-a71a-6a2fc141879d' title='Show/Hide data repr'><svg class='icon xr-icon-database'><use xlink:href='#icon-database'></use></svg></label><div class='xr-var-attrs'><dl class='xr-attrs'><dt><span>long_name :</span></dt><dd>Precipitation</dd><dt><span>standard_name :</span></dt><dd>precipitation_flux</dd><dt><span>cell_measures :</span></dt><dd>area: areacella</dd><dt><span>cell_methods :</span></dt><dd>area: time: mean</dd><dt><span>comment :</span></dt><dd>includes both liquid and solid phases</dd><dt><span>units :</span></dt><dd>kg m-2 s-1</dd><dt><span>history :</span></dt><dd>2020-02-17T13:29:50Z altered by CMOR: Reordered dimensions, original order: lat lon time.</dd></dl></div><div class='xr-var-data'><pre>array([[[5.764542e-06]],\n",
       "\n",
       "       [[1.078403e-05]],\n",
       "\n",
       "       ...,\n",
       "\n",
       "       [[4.519467e-05]],\n",
       "\n",
       "       [[1.463625e-05]]], dtype=float32)</pre></div></li></ul></div></li><li class='xr-section-item'><input id='section-91f88f68-2f66-4ee8-8165-a021b61cc661' class='xr-section-summary-in' type='checkbox'  ><label for='section-91f88f68-2f66-4ee8-8165-a021b61cc661' class='xr-section-summary' >Attributes: <span>(45)</span></label><div class='xr-section-inline-details'></div><div class='xr-section-details'><dl class='xr-attrs'><dt><span>Conventions :</span></dt><dd>CF-1.7 CMIP-6.2</dd><dt><span>activity_id :</span></dt><dd>CMIP</dd><dt><span>branch_method :</span></dt><dd>standard</dd><dt><span>branch_time_in_child :</span></dt><dd>0.0</dd><dt><span>contact :</span></dt><dd>cmip6-data@ec-earth.org</dd><dt><span>creation_date :</span></dt><dd>2020-02-17T13:29:51Z</dd><dt><span>data_specs_version :</span></dt><dd>01.00.31</dd><dt><span>experiment :</span></dt><dd>all-forcing simulation of the recent past</dd><dt><span>experiment_id :</span></dt><dd>historical</dd><dt><span>external_variables :</span></dt><dd>areacella</dd><dt><span>forcing_index :</span></dt><dd>1</dd><dt><span>frequency :</span></dt><dd>day</dd><dt><span>further_info_url :</span></dt><dd>https://furtherinfo.es-doc.org/CMIP6.EC-Earth-Consortium.EC-Earth3-Veg-LR.historical.none.r1i1p1f1</dd><dt><span>grid :</span></dt><dd>T159L62-ORCA1L75</dd><dt><span>grid_label :</span></dt><dd>gr</dd><dt><span>history :</span></dt><dd>2020-02-17T13:29:51Z ; CMOR rewrote data to be consistent with CMIP6, CF-1.7 CMIP-6.2 and CF standards.;\n",
       "processed by ece2cmor v1.3.0, git rev. 1dffae19d25e71b416496a3126a26ef2cf46f87a-changes\n",
       "</dd><dt><span>initialization_index :</span></dt><dd>1</dd><dt><span>institution :</span></dt><dd>AEMET, Spain; BSC, Spain; CNR-ISAC, Italy; DMI, Denmark; ENEA, Italy; FMI, Finland; Geomar, Germany; ICHEC, Ireland; ICTP, Italy; IDL, Portugal; IMAU, The Netherlands; IPMA, Portugal; KIT, Karlsruhe, Germany; KNMI, The Netherlands; Lund University, Sweden; Met Eireann, Ireland; NLeSC, The Netherlands; NTNU, Norway; Oxford University, UK; surfSARA, The Netherlands; SMHI, Sweden; Stockholm University, Sweden; Unite ASTR, Belgium; University College Dublin, Ireland; University of Bergen, Norway; University of Copenhagen, Denmark; University of Helsinki, Finland; University of Santiago de Compostela, Spain; Uppsala University, Sweden; Utrecht University, The Netherlands; Vrije Universiteit Amsterdam, the Netherlands; Wageningen University, The Netherlands. Mailing address: EC-Earth consortium, Rossby Center, Swedish Meteorological and Hydrological Institute/SMHI, SE-601 76 Norrkoping, Sweden</dd><dt><span>institution_id :</span></dt><dd>EC-Earth-Consortium</dd><dt><span>mip_era :</span></dt><dd>CMIP6</dd><dt><span>nominal_resolution :</span></dt><dd>250 km</dd><dt><span>parent_activity_id :</span></dt><dd>CMIP</dd><dt><span>parent_experiment_id :</span></dt><dd>piControl</dd><dt><span>parent_mip_era :</span></dt><dd>CMIP6</dd><dt><span>parent_source_id :</span></dt><dd>EC-Earth3-Veg-LR</dd><dt><span>parent_time_units :</span></dt><dd>days since 1850-01-01</dd><dt><span>parent_variant_label :</span></dt><dd>r1i1p1f1</dd><dt><span>physics_index :</span></dt><dd>1</dd><dt><span>product :</span></dt><dd>model-output</dd><dt><span>realization_index :</span></dt><dd>1</dd><dt><span>realm :</span></dt><dd>atmos</dd><dt><span>source :</span></dt><dd>EC-Earth3-Veg-LR (2019): \n",
       "aerosol: none\n",
       "atmos: IFS cy36r4 (TL159, linearly reduced Gaussian grid equivalent to 320 x 160 longitude/latitude; 62 levels; top level 5 hPa)\n",
       "atmosChem: none\n",
       "land: HTESSEL (land surface scheme built in IFS) and LPJ-GUESS v4\n",
       "landIce: none\n",
       "ocean: NEMO3.6 (ORCA1 tripolar primarily 1 degree with meridional refinement down to 1/3 degree in the tropics; 362 x 292 longitude/latitude; 75 levels; top grid cell 0-1 m)\n",
       "ocnBgchem: none\n",
       "seaIce: LIM3</dd><dt><span>source_id :</span></dt><dd>EC-Earth3-Veg-LR</dd><dt><span>source_type :</span></dt><dd>AOGCM</dd><dt><span>sub_experiment :</span></dt><dd>none</dd><dt><span>sub_experiment_id :</span></dt><dd>none</dd><dt><span>table_id :</span></dt><dd>day</dd><dt><span>table_info :</span></dt><dd>Creation Date:(24 July 2019) MD5:70649eeb16bc90c431e35b583fac7375</dd><dt><span>title :</span></dt><dd>EC-Earth3-Veg-LR output prepared for CMIP6</dd><dt><span>variable_id :</span></dt><dd>pr</dd><dt><span>variant_label :</span></dt><dd>r1i1p1f1</dd><dt><span>license :</span></dt><dd>CMIP6 model data produced by EC-Earth-Consortium is licensed under a Creative Commons Attribution-ShareAlike 4.0 International License (https://creativecommons.org/licenses). Consult https://pcmdi.llnl.gov/CMIP6/TermsOfUse for terms of use governing CMIP6 output, including citation requirements and proper acknowledgment. Further information about this data, including some limitations, can be found via the further_info_url (recorded as a global attribute in this file) and at http://www.ec-earth.org. The data producers and data providers make no warranty, either express or implied, including, but not limited to, warranties of merchantability and fitness for a particular purpose. All liabilities arising from the supply of the information (including any liability arising in negligence) are excluded to the fullest extent permitted by law.</dd><dt><span>cmor_version :</span></dt><dd>3.5.0</dd><dt><span>branch_time_in_parent :</span></dt><dd>164359.0</dd><dt><span>tracking_id :</span></dt><dd>hdl:21.14100/037c3f46-ad12-415a-bfaf-812c1bf9662f</dd></dl></div></li></ul></div></div>"
      ],
      "text/plain": [
       "<xarray.Dataset>\n",
       "Dimensions:    (time: 60265, bnds: 2, lat: 1, lon: 1)\n",
       "Coordinates:\n",
       "  * time       (time) datetime64[ns] 1850-01-01T12:00:00 ... 2014-12-31T12:00:00\n",
       "  * lat        (lat) float64 -25.23\n",
       "  * lon        (lon) float64 32.62\n",
       "Dimensions without coordinates: bnds\n",
       "Data variables:\n",
       "    time_bnds  (time, bnds) datetime64[ns] ...\n",
       "    lat_bnds   (time, lat, bnds) float64 ...\n",
       "    lon_bnds   (time, lon, bnds) float64 ...\n",
       "    pr         (time, lat, lon) float32 ...\n",
       "Attributes: (12/45)\n",
       "    Conventions:            CF-1.7 CMIP-6.2\n",
       "    activity_id:            CMIP\n",
       "    branch_method:          standard\n",
       "    branch_time_in_child:   0.0\n",
       "    contact:                cmip6-data@ec-earth.org\n",
       "    creation_date:          2020-02-17T13:29:51Z\n",
       "    ...                     ...\n",
       "    variable_id:            pr\n",
       "    variant_label:          r1i1p1f1\n",
       "    license:                CMIP6 model data produced by EC-Earth-Consortium ...\n",
       "    cmor_version:           3.5.0\n",
       "    branch_time_in_parent:  164359.0\n",
       "    tracking_id:            hdl:21.14100/037c3f46-ad12-415a-bfaf-812c1bf9662f"
      ]
     },
     "execution_count": 8,
     "metadata": {},
     "output_type": "execute_result"
    }
   ],
   "source": [
    "# read five nc files\n",
    "import xarray as xr\n",
    "reanalysis_data = xr.open_dataset('./ipcc_data/historical_data/pr_day_EC-Earth3-Veg-LR_historical_r1i1p1f1_gr_18500101-20141231_v20200217.nc')\n",
    "reanalysis_data"
   ]
  },
  {
   "cell_type": "code",
   "execution_count": 9,
   "id": "47c8614c-ec26-4920-bc56-ed766b6d658c",
   "metadata": {
    "tags": []
   },
   "outputs": [],
   "source": [
    "reanalysis_data['pr'] = reanalysis_data['pr'] * 86400"
   ]
  },
  {
   "cell_type": "code",
   "execution_count": 10,
   "id": "99974084-4517-4d27-aedf-b91706f5b86f",
   "metadata": {
    "tags": []
   },
   "outputs": [
    {
     "data": {
      "image/png": "[encoded data removed]",
      "text/plain": [
       "<Figure size 1500x500 with 1 Axes>"
      ]
     },
     "metadata": {},
     "output_type": "display_data"
    }
   ],
   "source": [
    "import matplotlib.pyplot as plt\n",
    "# plot\n",
    "fig, ax = plt.subplots(figsize=(15,5))\n",
    "x=reanalysis_data.time.values\n",
    "y=reanalysis_data.pr.values[:,0,0]\n",
    "\n",
    "ax.plot(x, y, linewidth=2.0)\n",
    "plt.show()"
   ]
  },
  {
   "cell_type": "markdown",
   "id": "94c449eb",
   "metadata": {},
   "source": [
    "## 2. Download GCM SSP Scenario data"
   ]
  },
  {
   "cell_type": "markdown",
   "id": "06f3ac6a",
   "metadata": {},
   "source": [
    "### 2.1 Set Temporal Resolution"
   ]
  },
  {
   "cell_type": "markdown",
   "id": "e946d195",
   "metadata": {},
   "source": [
    "<img src=\"../figures/CMIP6_1.PNG\" width=\"1100\">"
   ]
  },
  {
   "cell_type": "code",
   "execution_count": 11,
   "id": "94d4c2aa",
   "metadata": {
    "tags": []
   },
   "outputs": [],
   "source": [
    "temporal_resolution = \"daily\""
   ]
  },
  {
   "cell_type": "markdown",
   "id": "3952c776",
   "metadata": {},
   "source": [
    "### 2.2 Set Experiment \"SSP3-7.0\""
   ]
  },
  {
   "cell_type": "markdown",
   "id": "ec996ef3",
   "metadata": {},
   "source": [
    "<img src=\"../figures/CMIP6_2.PNG\" width=\"1100\">"
   ]
  },
  {
   "cell_type": "code",
   "execution_count": 12,
   "id": "574b4b7e",
   "metadata": {
    "tags": []
   },
   "outputs": [],
   "source": [
    "experiment = 'ssp3_7_0'"
   ]
  },
  {
   "cell_type": "markdown",
   "id": "b724e6c6",
   "metadata": {},
   "source": [
    "### 1.3 Set Level"
   ]
  },
  {
   "cell_type": "markdown",
   "id": "2737d2c6",
   "metadata": {},
   "source": [
    "<img src=\"../figures/CMIP6_3.PNG\" width=\"1100\">"
   ]
  },
  {
   "cell_type": "code",
   "execution_count": 13,
   "id": "7f056778",
   "metadata": {
    "tags": []
   },
   "outputs": [],
   "source": [
    "level = \"single_levels\"     "
   ]
  },
  {
   "cell_type": "markdown",
   "id": "1f2fdc0c",
   "metadata": {},
   "source": [
    "### 1.4 Set Variable (example: precipitation)"
   ]
  },
  {
   "cell_type": "markdown",
   "id": "729dfd14",
   "metadata": {},
   "source": [
    "<img src=\"../figures/CMIP6_4.PNG\" width=\"1100\">"
   ]
  },
  {
   "cell_type": "code",
   "execution_count": 14,
   "id": "559e1a16",
   "metadata": {
    "tags": []
   },
   "outputs": [],
   "source": [
    "variable = 'precipitation',"
   ]
  },
  {
   "cell_type": "markdown",
   "id": "9402f815",
   "metadata": {},
   "source": [
    "### 1.5 Set Model (example: HadGEM3-GC31-MM(UK))"
   ]
  },
  {
   "cell_type": "markdown",
   "id": "e91b6665",
   "metadata": {},
   "source": [
    "<img src=\"../figures/CMIP6_5.PNG\" width=\"1100\">"
   ]
  },
  {
   "cell_type": "code",
   "execution_count": 15,
   "id": "c7158424",
   "metadata": {
    "tags": []
   },
   "outputs": [],
   "source": [
    "model =  'ec_earth3_veg_lr'"
   ]
  },
  {
   "cell_type": "markdown",
   "id": "2a66baa6",
   "metadata": {},
   "source": [
    "### 1.6 Set Temporal subset: 2022-01-01 ~ 2100-12-31\n",
    "\n",
    " * Set \"Temporal range\""
   ]
  },
  {
   "cell_type": "markdown",
   "id": "a0d2118f",
   "metadata": {},
   "source": [
    "<img src=\"../figures/CMIP6_6.PNG\" width=\"1100\">"
   ]
  },
  {
   "cell_type": "markdown",
   "id": "d5a73228",
   "metadata": {},
   "source": [
    "### 7. Set Geographical Area (example: Mozambique Maputo - North:-25, South:-26, West:32, East:33)"
   ]
  },
  {
   "cell_type": "markdown",
   "id": "24fb1cce",
   "metadata": {},
   "source": [
    "<img src=\"../figures/CMIP6_7.PNG\" width=\"1100\">"
   ]
  },
  {
   "cell_type": "code",
   "execution_count": 16,
   "id": "62e21896",
   "metadata": {
    "tags": []
   },
   "outputs": [],
   "source": [
    "area = [-25, 32, -26, 33, ]"
   ]
  },
  {
   "cell_type": "code",
   "execution_count": null,
   "id": "46cf18d8",
   "metadata": {},
   "outputs": [],
   "source": [
    "c.retrieve(\n",
    "    'projections-cmip6',\n",
    "    {\n",
    "        'format': 'zip',\n",
    "        'temporal_resolution': temporal_resolution,\n",
    "        'experiment': experiment,\n",
    "        'level': level,\n",
    "        'variable': variable,\n",
    "        'model': model,\n",
    "        'date': '2022-01-01/2100-12-31',\n",
    "        'area': area,\n",
    "    },\n",
    "    'Mozambique_Maputo_gcm_ssp3.zip')"
   ]
  },
  {
   "cell_type": "code",
   "execution_count": null,
   "id": "145a4208",
   "metadata": {},
   "outputs": [],
   "source": []
  }
 ],
 "metadata": {
  "kernelspec": {
   "display_name": "Python 3 (ipykernel)",
   "language": "python",
   "name": "python3"
  },
  "language_info": {
   "codemirror_mode": {
    "name": "ipython",
    "version": 3
   },
   "file_extension": ".py",
   "mimetype": "text/x-python",
   "name": "python",
   "nbconvert_exporter": "python",
   "pygments_lexer": "ipython3",
   "version": "3.7.12"
  },
  "vscode": {
   "interpreter": {
    "hash": "6da62e51a3e154d6d9270ee98e56fb6b92435542159668c3a97bc246d2a4f9f1"
   }
  }
 },
 "nbformat": 4,
 "nbformat_minor": 5
}
