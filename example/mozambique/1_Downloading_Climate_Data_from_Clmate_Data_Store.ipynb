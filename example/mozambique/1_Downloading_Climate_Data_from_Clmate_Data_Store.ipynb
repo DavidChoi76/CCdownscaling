{
 "cells": [
  {
   "cell_type": "markdown",
   "id": "1f354130",
   "metadata": {},
   "source": [
    "# Downloading Climate Data from Climate Data Store "
   ]
  },
  {
   "cell_type": "markdown",
   "id": "21f3fd20",
   "metadata": {},
   "source": [
    "* This notebook was developed to download Climate data that is produced for AR6 report using API from Climate Data Store. https://cds.climate.copernicus.eu/cdsapp#!/dataset/projections-cmip6?tab=form\n",
    "\n",
    "* I added my API key in this GitHub. If you set up the your own API key, please follow the link below.  \n",
    "\n",
    "    https://confluence.ecmwf.int/display/CKB/How+to+install+and+use+CDS+API+on+Windows\n",
    "    \n",
    "    https://cds.climate.copernicus.eu/api-how-to    "
   ]
  },
  {
   "cell_type": "code",
   "execution_count": 1,
   "id": "2905b1bf",
   "metadata": {},
   "outputs": [],
   "source": [
    "# import cdsapi to download climate data using API\n",
    "import cdsapi\n",
    "\n",
    "c = cdsapi.Client()"
   ]
  },
  {
   "cell_type": "markdown",
   "id": "738c0049",
   "metadata": {},
   "source": [
    "## 1. Download Historical GCM data"
   ]
  },
  {
   "cell_type": "markdown",
   "id": "fa8cfeb7",
   "metadata": {},
   "source": [
    "### 1.1 Set Temporal Resolution"
   ]
  },
  {
   "cell_type": "markdown",
   "id": "853e174c",
   "metadata": {},
   "source": [
    "<img src=\"../figures/CMIP6_1.PNG\" width=\"1100\">"
   ]
  },
  {
   "cell_type": "code",
   "execution_count": 2,
   "id": "c048e2f7",
   "metadata": {},
   "outputs": [],
   "source": [
    "temporal_resolution = \"daily\""
   ]
  },
  {
   "cell_type": "markdown",
   "id": "fa8f8c08",
   "metadata": {},
   "source": [
    "### 1.2 Set Experiment \"Historical\""
   ]
  },
  {
   "cell_type": "markdown",
   "id": "820f639a",
   "metadata": {},
   "source": [
    "<img src=\"../figures/CMIP6_2.PNG\" width=\"1100\">"
   ]
  },
  {
   "cell_type": "code",
   "execution_count": 3,
   "id": "5dfadbb6",
   "metadata": {},
   "outputs": [],
   "source": [
    "experiment = 'historical'"
   ]
  },
  {
   "cell_type": "markdown",
   "id": "85a0e626",
   "metadata": {},
   "source": [
    "### 1.3 Set Level"
   ]
  },
  {
   "cell_type": "markdown",
   "id": "c518432c",
   "metadata": {},
   "source": [
    "<img src=\"../figures/CMIP6_3.PNG\" width=\"1100\">"
   ]
  },
  {
   "cell_type": "code",
   "execution_count": 4,
   "id": "85979721",
   "metadata": {},
   "outputs": [],
   "source": [
    "level = \"single_levels\"     "
   ]
  },
  {
   "cell_type": "markdown",
   "id": "77cc0e61",
   "metadata": {},
   "source": [
    "### 1.4 Set Variable (example: precipitation)"
   ]
  },
  {
   "cell_type": "markdown",
   "id": "2dfaec86",
   "metadata": {},
   "source": [
    "<img src=\"../figures/CMIP6_4.PNG\" width=\"1100\">"
   ]
  },
  {
   "cell_type": "code",
   "execution_count": 5,
   "id": "e34947d9",
   "metadata": {},
   "outputs": [],
   "source": [
    "variable = 'precipitation',"
   ]
  },
  {
   "cell_type": "markdown",
   "id": "c77ca1ea",
   "metadata": {},
   "source": [
    "### 1.5 Set Model (example:EC-Earth3-Veg-LR(Europe))"
   ]
  },
  {
   "cell_type": "markdown",
   "id": "cb593489",
   "metadata": {},
   "source": [
    "<img src=\"../figures/CMIP6_5.PNG\" width=\"1100\">"
   ]
  },
  {
   "cell_type": "code",
   "execution_count": 6,
   "id": "cc19c4d9",
   "metadata": {},
   "outputs": [],
   "source": [
    "model =  'ec_earth3_veg_lr'"
   ]
  },
  {
   "cell_type": "markdown",
   "id": "b8f878bc",
   "metadata": {},
   "source": [
    "### 1.6 Set Temporal subset\n",
    "\n",
    " * if you set \"Whole available temporal range\", you don't need to set temporal subset in api command."
   ]
  },
  {
   "cell_type": "markdown",
   "id": "95dd46ae",
   "metadata": {},
   "source": [
    "<img src=\"../figures/CMIP6_6.PNG\" width=\"1100\">"
   ]
  },
  {
   "cell_type": "markdown",
   "id": "c9edb620",
   "metadata": {},
   "source": [
    "### 7. Set Geographical Area (example: Mozambique Maputo - North:-25, South:-26, West:32, East:33)"
   ]
  },
  {
   "cell_type": "code",
   "execution_count": 7,
   "id": "aeeea05a",
   "metadata": {},
   "outputs": [],
   "source": [
    "import leafmap"
   ]
  },
  {
   "cell_type": "code",
   "execution_count": 8,
   "id": "38eb555b",
   "metadata": {},
   "outputs": [
    {
     "data": {
      "application/vnd.jupyter.widget-view+json": {
       "model_id": "0f0bc340e75241d8aeaefc9c7a6a4964",
       "version_major": 2,
       "version_minor": 0
      },
      "text/plain": [
       "Map(center=[20, 0], controls=(ZoomControl(options=['position', 'zoom_in_text', 'zoom_in_title', 'zoom_out_text…"
      ]
     },
     "execution_count": 8,
     "metadata": {},
     "output_type": "execute_result"
    }
   ],
   "source": [
    "in_csv = 'https://raw.githubusercontent.com/giswqs/data/main/world/world_cities.csv'\n",
    "Map = leafmap.Map()\n",
    "Map.add_xy_data(in_csv, x=\"longitude\", y=\"latitude\", layer_name=\"World Cities\")\n",
    "Map"
   ]
  },
  {
   "cell_type": "code",
   "execution_count": 9,
   "id": "66540460",
   "metadata": {},
   "outputs": [
    {
     "data": {
      "text/html": [
       "<div>\n",
       "<style scoped>\n",
       "    .dataframe tbody tr th:only-of-type {\n",
       "        vertical-align: middle;\n",
       "    }\n",
       "\n",
       "    .dataframe tbody tr th {\n",
       "        vertical-align: top;\n",
       "    }\n",
       "\n",
       "    .dataframe thead th {\n",
       "        text-align: right;\n",
       "    }\n",
       "</style>\n",
       "<table border=\"1\" class=\"dataframe\">\n",
       "  <thead>\n",
       "    <tr style=\"text-align: right;\">\n",
       "      <th></th>\n",
       "      <th>id</th>\n",
       "      <th>name</th>\n",
       "      <th>country</th>\n",
       "      <th>latitude</th>\n",
       "      <th>longitude</th>\n",
       "      <th>population</th>\n",
       "      <th>geometry</th>\n",
       "    </tr>\n",
       "  </thead>\n",
       "  <tbody>\n",
       "    <tr>\n",
       "      <th>825</th>\n",
       "      <td>826</td>\n",
       "      <td>Maputo</td>\n",
       "      <td>MOZ</td>\n",
       "      <td>-25.95528</td>\n",
       "      <td>32.58916</td>\n",
       "      <td>1446000</td>\n",
       "      <td>POINT (32.58916 -25.95528)</td>\n",
       "    </tr>\n",
       "  </tbody>\n",
       "</table>\n",
       "</div>"
      ],
      "text/plain": [
       "      id    name country  latitude  longitude  population  \\\n",
       "825  826  Maputo     MOZ -25.95528   32.58916     1446000   \n",
       "\n",
       "                       geometry  \n",
       "825  POINT (32.58916 -25.95528)  "
      ]
     },
     "execution_count": 9,
     "metadata": {},
     "output_type": "execute_result"
    }
   ],
   "source": [
    "gdf = leafmap.csv_to_gdf(in_csv)\n",
    "gdf.loc[gdf['name'] == \"Maputo\"]"
   ]
  },
  {
   "cell_type": "markdown",
   "id": "693f0efe",
   "metadata": {},
   "source": [
    "<img src=\"../figures/CMIP6_7.PNG\" width=\"1100\">"
   ]
  },
  {
   "cell_type": "code",
   "execution_count": 10,
   "id": "645d74b7",
   "metadata": {},
   "outputs": [],
   "source": [
    "area = [-25, 32, -26, 33, ]"
   ]
  },
  {
   "cell_type": "code",
   "execution_count": 11,
   "id": "4043af87",
   "metadata": {},
   "outputs": [
    {
     "name": "stderr",
     "output_type": "stream",
     "text": [
      "2023-09-15 17:35:28,619 INFO Welcome to the CDS\n",
      "2023-09-15 17:35:28,619 INFO Sending request to https://cds.climate.copernicus.eu/api/v2/resources/projections-cmip6\n",
      "2023-09-15 17:35:29,093 INFO Request is queued\n",
      "2023-09-15 17:35:30,405 INFO Request is running\n",
      "2023-09-15 17:41:53,714 INFO Request is completed\n",
      "2023-09-15 17:41:53,717 INFO Downloading https://download-0002-clone.copernicus-climate.eu/cache-compute-0002/cache/data9/adaptor.esgf_wps.retrieve-1694767240.3222811-1592-15-86265d55-65fc-4cc0-b265-d09bca51f4ef.zip to Mozambique_Maputo_gcm_historical.zip (971.2K)\n",
      "2023-09-15 17:41:57,610 INFO Download rate 249.5K/s\n"
     ]
    },
    {
     "data": {
      "text/plain": [
       "Result(content_length=994541,content_type=application/zip,location=https://download-0002-clone.copernicus-climate.eu/cache-compute-0002/cache/data9/adaptor.esgf_wps.retrieve-1694767240.3222811-1592-15-86265d55-65fc-4cc0-b265-d09bca51f4ef.zip)"
      ]
     },
     "execution_count": 11,
     "metadata": {},
     "output_type": "execute_result"
    }
   ],
   "source": [
    "c.retrieve(\n",
    "    'projections-cmip6',\n",
    "    {\n",
    "        'format': 'zip',\n",
    "        'temporal_resolution': temporal_resolution,\n",
    "        'experiment': experiment,\n",
    "        'level': level,\n",
    "        'variable': variable,\n",
    "        'model': model,\n",
    "        'area': area,\n",
    "    },\n",
    "    'Mozambique_Maputo_gcm_historical.zip')"
   ]
  },
  {
   "cell_type": "code",
   "execution_count": 17,
   "id": "9a416921",
   "metadata": {},
   "outputs": [
    {
     "name": "stdout",
     "output_type": "stream",
     "text": [
      "/usr/bin/bash: unzip: No such file or directory\n"
     ]
    }
   ],
   "source": [
    "!unzip Mozambique_Maputo_gcm_historical.zip"
   ]
  },
  {
   "cell_type": "code",
   "execution_count": 24,
   "id": "59c9f34f-fd4b-4c6d-9058-7ee76bc30796",
   "metadata": {},
   "outputs": [
    {
     "data": {
      "text/html": [
       "<div><svg style=\"position: absolute; width: 0; height: 0; overflow: hidden\">\n",
       "<defs>\n",
       "<symbol id=\"icon-database\" viewBox=\"0 0 32 32\">\n",
       "<path d=\"M16 0c-8.837 0-16 2.239-16 5v4c0 2.761 7.163 5 16 5s16-2.239 16-5v-4c0-2.761-7.163-5-16-5z\"></path>\n",
       "<path d=\"M16 17c-8.837 0-16-2.239-16-5v6c0 2.761 7.163 5 16 5s16-2.239 16-5v-6c0 2.761-7.163 5-16 5z\"></path>\n",
       "<path d=\"M16 26c-8.837 0-16-2.239-16-5v6c0 2.761 7.163 5 16 5s16-2.239 16-5v-6c0 2.761-7.163 5-16 5z\"></path>\n",
       "</symbol>\n",
       "<symbol id=\"icon-file-text2\" viewBox=\"0 0 32 32\">\n",
       "<path d=\"M28.681 7.159c-0.694-0.947-1.662-2.053-2.724-3.116s-2.169-2.030-3.116-2.724c-1.612-1.182-2.393-1.319-2.841-1.319h-15.5c-1.378 0-2.5 1.121-2.5 2.5v27c0 1.378 1.122 2.5 2.5 2.5h23c1.378 0 2.5-1.122 2.5-2.5v-19.5c0-0.448-0.137-1.23-1.319-2.841zM24.543 5.457c0.959 0.959 1.712 1.825 2.268 2.543h-4.811v-4.811c0.718 0.556 1.584 1.309 2.543 2.268zM28 29.5c0 0.271-0.229 0.5-0.5 0.5h-23c-0.271 0-0.5-0.229-0.5-0.5v-27c0-0.271 0.229-0.5 0.5-0.5 0 0 15.499-0 15.5 0v7c0 0.552 0.448 1 1 1h7v19.5z\"></path>\n",
       "<path d=\"M23 26h-14c-0.552 0-1-0.448-1-1s0.448-1 1-1h14c0.552 0 1 0.448 1 1s-0.448 1-1 1z\"></path>\n",
       "<path d=\"M23 22h-14c-0.552 0-1-0.448-1-1s0.448-1 1-1h14c0.552 0 1 0.448 1 1s-0.448 1-1 1z\"></path>\n",
       "<path d=\"M23 18h-14c-0.552 0-1-0.448-1-1s0.448-1 1-1h14c0.552 0 1 0.448 1 1s-0.448 1-1 1z\"></path>\n",
       "</symbol>\n",
       "</defs>\n",
       "</svg>\n",
       "<style>/* CSS stylesheet for displaying xarray objects in jupyterlab.\n",
       " *\n",
       " */\n",
       "\n",
       ":root {\n",
       "  --xr-font-color0: var(--jp-content-font-color0, rgba(0, 0, 0, 1));\n",
       "  --xr-font-color2: var(--jp-content-font-color2, rgba(0, 0, 0, 0.54));\n",
       "  --xr-font-color3: var(--jp-content-font-color3, rgba(0, 0, 0, 0.38));\n",
       "  --xr-border-color: var(--jp-border-color2, #e0e0e0);\n",
       "  --xr-disabled-color: var(--jp-layout-color3, #bdbdbd);\n",
       "  --xr-background-color: var(--jp-layout-color0, white);\n",
       "  --xr-background-color-row-even: var(--jp-layout-color1, white);\n",
       "  --xr-background-color-row-odd: var(--jp-layout-color2, #eeeeee);\n",
       "}\n",
       "\n",
       "html[theme=dark],\n",
       "body[data-theme=dark],\n",
       "body.vscode-dark {\n",
       "  --xr-font-color0: rgba(255, 255, 255, 1);\n",
       "  --xr-font-color2: rgba(255, 255, 255, 0.54);\n",
       "  --xr-font-color3: rgba(255, 255, 255, 0.38);\n",
       "  --xr-border-color: #1F1F1F;\n",
       "  --xr-disabled-color: #515151;\n",
       "  --xr-background-color: #111111;\n",
       "  --xr-background-color-row-even: #111111;\n",
       "  --xr-background-color-row-odd: #313131;\n",
       "}\n",
       "\n",
       ".xr-wrap {\n",
       "  display: block !important;\n",
       "  min-width: 300px;\n",
       "  max-width: 700px;\n",
       "}\n",
       "\n",
       ".xr-text-repr-fallback {\n",
       "  /* fallback to plain text repr when CSS is not injected (untrusted notebook) */\n",
       "  display: none;\n",
       "}\n",
       "\n",
       ".xr-header {\n",
       "  padding-top: 6px;\n",
       "  padding-bottom: 6px;\n",
       "  margin-bottom: 4px;\n",
       "  border-bottom: solid 1px var(--xr-border-color);\n",
       "}\n",
       "\n",
       ".xr-header > div,\n",
       ".xr-header > ul {\n",
       "  display: inline;\n",
       "  margin-top: 0;\n",
       "  margin-bottom: 0;\n",
       "}\n",
       "\n",
       ".xr-obj-type,\n",
       ".xr-array-name {\n",
       "  margin-left: 2px;\n",
       "  margin-right: 10px;\n",
       "}\n",
       "\n",
       ".xr-obj-type {\n",
       "  color: var(--xr-font-color2);\n",
       "}\n",
       "\n",
       ".xr-sections {\n",
       "  padding-left: 0 !important;\n",
       "  display: grid;\n",
       "  grid-template-columns: 150px auto auto 1fr 20px 20px;\n",
       "}\n",
       "\n",
       ".xr-section-item {\n",
       "  display: contents;\n",
       "}\n",
       "\n",
       ".xr-section-item input {\n",
       "  display: none;\n",
       "}\n",
       "\n",
       ".xr-section-item input + label {\n",
       "  color: var(--xr-disabled-color);\n",
       "}\n",
       "\n",
       ".xr-section-item input:enabled + label {\n",
       "  cursor: pointer;\n",
       "  color: var(--xr-font-color2);\n",
       "}\n",
       "\n",
       ".xr-section-item input:enabled + label:hover {\n",
       "  color: var(--xr-font-color0);\n",
       "}\n",
       "\n",
       ".xr-section-summary {\n",
       "  grid-column: 1;\n",
       "  color: var(--xr-font-color2);\n",
       "  font-weight: 500;\n",
       "}\n",
       "\n",
       ".xr-section-summary > span {\n",
       "  display: inline-block;\n",
       "  padding-left: 0.5em;\n",
       "}\n",
       "\n",
       ".xr-section-summary-in:disabled + label {\n",
       "  color: var(--xr-font-color2);\n",
       "}\n",
       "\n",
       ".xr-section-summary-in + label:before {\n",
       "  display: inline-block;\n",
       "  content: '►';\n",
       "  font-size: 11px;\n",
       "  width: 15px;\n",
       "  text-align: center;\n",
       "}\n",
       "\n",
       ".xr-section-summary-in:disabled + label:before {\n",
       "  color: var(--xr-disabled-color);\n",
       "}\n",
       "\n",
       ".xr-section-summary-in:checked + label:before {\n",
       "  content: '▼';\n",
       "}\n",
       "\n",
       ".xr-section-summary-in:checked + label > span {\n",
       "  display: none;\n",
       "}\n",
       "\n",
       ".xr-section-summary,\n",
       ".xr-section-inline-details {\n",
       "  padding-top: 4px;\n",
       "  padding-bottom: 4px;\n",
       "}\n",
       "\n",
       ".xr-section-inline-details {\n",
       "  grid-column: 2 / -1;\n",
       "}\n",
       "\n",
       ".xr-section-details {\n",
       "  display: none;\n",
       "  grid-column: 1 / -1;\n",
       "  margin-bottom: 5px;\n",
       "}\n",
       "\n",
       ".xr-section-summary-in:checked ~ .xr-section-details {\n",
       "  display: contents;\n",
       "}\n",
       "\n",
       ".xr-array-wrap {\n",
       "  grid-column: 1 / -1;\n",
       "  display: grid;\n",
       "  grid-template-columns: 20px auto;\n",
       "}\n",
       "\n",
       ".xr-array-wrap > label {\n",
       "  grid-column: 1;\n",
       "  vertical-align: top;\n",
       "}\n",
       "\n",
       ".xr-preview {\n",
       "  color: var(--xr-font-color3);\n",
       "}\n",
       "\n",
       ".xr-array-preview,\n",
       ".xr-array-data {\n",
       "  padding: 0 5px !important;\n",
       "  grid-column: 2;\n",
       "}\n",
       "\n",
       ".xr-array-data,\n",
       ".xr-array-in:checked ~ .xr-array-preview {\n",
       "  display: none;\n",
       "}\n",
       "\n",
       ".xr-array-in:checked ~ .xr-array-data,\n",
       ".xr-array-preview {\n",
       "  display: inline-block;\n",
       "}\n",
       "\n",
       ".xr-dim-list {\n",
       "  display: inline-block !important;\n",
       "  list-style: none;\n",
       "  padding: 0 !important;\n",
       "  margin: 0;\n",
       "}\n",
       "\n",
       ".xr-dim-list li {\n",
       "  display: inline-block;\n",
       "  padding: 0;\n",
       "  margin: 0;\n",
       "}\n",
       "\n",
       ".xr-dim-list:before {\n",
       "  content: '(';\n",
       "}\n",
       "\n",
       ".xr-dim-list:after {\n",
       "  content: ')';\n",
       "}\n",
       "\n",
       ".xr-dim-list li:not(:last-child):after {\n",
       "  content: ',';\n",
       "  padding-right: 5px;\n",
       "}\n",
       "\n",
       ".xr-has-index {\n",
       "  font-weight: bold;\n",
       "}\n",
       "\n",
       ".xr-var-list,\n",
       ".xr-var-item {\n",
       "  display: contents;\n",
       "}\n",
       "\n",
       ".xr-var-item > div,\n",
       ".xr-var-item label,\n",
       ".xr-var-item > .xr-var-name span {\n",
       "  background-color: var(--xr-background-color-row-even);\n",
       "  margin-bottom: 0;\n",
       "}\n",
       "\n",
       ".xr-var-item > .xr-var-name:hover span {\n",
       "  padding-right: 5px;\n",
       "}\n",
       "\n",
       ".xr-var-list > li:nth-child(odd) > div,\n",
       ".xr-var-list > li:nth-child(odd) > label,\n",
       ".xr-var-list > li:nth-child(odd) > .xr-var-name span {\n",
       "  background-color: var(--xr-background-color-row-odd);\n",
       "}\n",
       "\n",
       ".xr-var-name {\n",
       "  grid-column: 1;\n",
       "}\n",
       "\n",
       ".xr-var-dims {\n",
       "  grid-column: 2;\n",
       "}\n",
       "\n",
       ".xr-var-dtype {\n",
       "  grid-column: 3;\n",
       "  text-align: right;\n",
       "  color: var(--xr-font-color2);\n",
       "}\n",
       "\n",
       ".xr-var-preview {\n",
       "  grid-column: 4;\n",
       "}\n",
       "\n",
       ".xr-index-preview {\n",
       "  grid-column: 2 / 5;\n",
       "  color: var(--xr-font-color2);\n",
       "}\n",
       "\n",
       ".xr-var-name,\n",
       ".xr-var-dims,\n",
       ".xr-var-dtype,\n",
       ".xr-preview,\n",
       ".xr-attrs dt {\n",
       "  white-space: nowrap;\n",
       "  overflow: hidden;\n",
       "  text-overflow: ellipsis;\n",
       "  padding-right: 10px;\n",
       "}\n",
       "\n",
       ".xr-var-name:hover,\n",
       ".xr-var-dims:hover,\n",
       ".xr-var-dtype:hover,\n",
       ".xr-attrs dt:hover {\n",
       "  overflow: visible;\n",
       "  width: auto;\n",
       "  z-index: 1;\n",
       "}\n",
       "\n",
       ".xr-var-attrs,\n",
       ".xr-var-data,\n",
       ".xr-index-data {\n",
       "  display: none;\n",
       "  background-color: var(--xr-background-color) !important;\n",
       "  padding-bottom: 5px !important;\n",
       "}\n",
       "\n",
       ".xr-var-attrs-in:checked ~ .xr-var-attrs,\n",
       ".xr-var-data-in:checked ~ .xr-var-data,\n",
       ".xr-index-data-in:checked ~ .xr-index-data {\n",
       "  display: block;\n",
       "}\n",
       "\n",
       ".xr-var-data > table {\n",
       "  float: right;\n",
       "}\n",
       "\n",
       ".xr-var-name span,\n",
       ".xr-var-data,\n",
       ".xr-index-name div,\n",
       ".xr-index-data,\n",
       ".xr-attrs {\n",
       "  padding-left: 25px !important;\n",
       "}\n",
       "\n",
       ".xr-attrs,\n",
       ".xr-var-attrs,\n",
       ".xr-var-data,\n",
       ".xr-index-data {\n",
       "  grid-column: 1 / -1;\n",
       "}\n",
       "\n",
       "dl.xr-attrs {\n",
       "  padding: 0;\n",
       "  margin: 0;\n",
       "  display: grid;\n",
       "  grid-template-columns: 125px auto;\n",
       "}\n",
       "\n",
       ".xr-attrs dt,\n",
       ".xr-attrs dd {\n",
       "  padding: 0;\n",
       "  margin: 0;\n",
       "  float: left;\n",
       "  padding-right: 10px;\n",
       "  width: auto;\n",
       "}\n",
       "\n",
       ".xr-attrs dt {\n",
       "  font-weight: normal;\n",
       "  grid-column: 1;\n",
       "}\n",
       "\n",
       ".xr-attrs dt:hover span {\n",
       "  display: inline-block;\n",
       "  background: var(--xr-background-color);\n",
       "  padding-right: 10px;\n",
       "}\n",
       "\n",
       ".xr-attrs dd {\n",
       "  grid-column: 2;\n",
       "  white-space: pre-wrap;\n",
       "  word-break: break-all;\n",
       "}\n",
       "\n",
       ".xr-icon-database,\n",
       ".xr-icon-file-text2,\n",
       ".xr-no-icon {\n",
       "  display: inline-block;\n",
       "  vertical-align: middle;\n",
       "  width: 1em;\n",
       "  height: 1.5em !important;\n",
       "  stroke-width: 0;\n",
       "  stroke: currentColor;\n",
       "  fill: currentColor;\n",
       "}\n",
       "</style><pre class='xr-text-repr-fallback'>&lt;xarray.Dataset&gt;\n",
       "Dimensions:    (time: 60265, bnds: 2, lat: 1, lon: 1)\n",
       "Coordinates:\n",
       "  * time       (time) datetime64[ns] 1850-01-01T12:00:00 ... 2014-12-31T12:00:00\n",
       "  * lat        (lat) float64 -25.23\n",
       "  * lon        (lon) float64 32.62\n",
       "Dimensions without coordinates: bnds\n",
       "Data variables:\n",
       "    time_bnds  (time, bnds) datetime64[ns] ...\n",
       "    lat_bnds   (time, lat, bnds) float64 ...\n",
       "    lon_bnds   (time, lon, bnds) float64 ...\n",
       "    pr         (time, lat, lon) float32 ...\n",
       "Attributes: (12/45)\n",
       "    Conventions:            CF-1.7 CMIP-6.2\n",
       "    activity_id:            CMIP\n",
       "    branch_method:          standard\n",
       "    branch_time_in_child:   0.0\n",
       "    contact:                cmip6-data@ec-earth.org\n",
       "    creation_date:          2020-02-17T13:29:51Z\n",
       "    ...                     ...\n",
       "    variable_id:            pr\n",
       "    variant_label:          r1i1p1f1\n",
       "    license:                CMIP6 model data produced by EC-Earth-Consortium ...\n",
       "    cmor_version:           3.5.0\n",
       "    branch_time_in_parent:  164359.0\n",
       "    tracking_id:            hdl:21.14100/037c3f46-ad12-415a-bfaf-812c1bf9662f</pre><div class='xr-wrap' style='display:none'><div class='xr-header'><div class='xr-obj-type'>xarray.Dataset</div></div><ul class='xr-sections'><li class='xr-section-item'><input id='section-e1bffc64-cd16-4b81-9227-3034ed1dcf9f' class='xr-section-summary-in' type='checkbox' disabled ><label for='section-e1bffc64-cd16-4b81-9227-3034ed1dcf9f' class='xr-section-summary'  title='Expand/collapse section'>Dimensions:</label><div class='xr-section-inline-details'><ul class='xr-dim-list'><li><span class='xr-has-index'>time</span>: 60265</li><li><span>bnds</span>: 2</li><li><span class='xr-has-index'>lat</span>: 1</li><li><span class='xr-has-index'>lon</span>: 1</li></ul></div><div class='xr-section-details'></div></li><li class='xr-section-item'><input id='section-754b1dc1-4db1-4f9e-8306-b569e2c3c26d' class='xr-section-summary-in' type='checkbox'  checked><label for='section-754b1dc1-4db1-4f9e-8306-b569e2c3c26d' class='xr-section-summary' >Coordinates: <span>(3)</span></label><div class='xr-section-inline-details'></div><div class='xr-section-details'><ul class='xr-var-list'><li class='xr-var-item'><div class='xr-var-name'><span class='xr-has-index'>time</span></div><div class='xr-var-dims'>(time)</div><div class='xr-var-dtype'>datetime64[ns]</div><div class='xr-var-preview xr-preview'>1850-01-01T12:00:00 ... 2014-12-...</div><input id='attrs-dc27b398-850f-45e1-973c-1789c736dd93' class='xr-var-attrs-in' type='checkbox' ><label for='attrs-dc27b398-850f-45e1-973c-1789c736dd93' title='Show/Hide attributes'><svg class='icon xr-icon-file-text2'><use xlink:href='#icon-file-text2'></use></svg></label><input id='data-742b99fa-a8f2-4be6-8b16-166b183a9197' class='xr-var-data-in' type='checkbox'><label for='data-742b99fa-a8f2-4be6-8b16-166b183a9197' title='Show/Hide data repr'><svg class='icon xr-icon-database'><use xlink:href='#icon-database'></use></svg></label><div class='xr-var-attrs'><dl class='xr-attrs'><dt><span>long_name :</span></dt><dd>time</dd><dt><span>axis :</span></dt><dd>T</dd><dt><span>standard_name :</span></dt><dd>time</dd><dt><span>bounds :</span></dt><dd>time_bnds</dd></dl></div><div class='xr-var-data'><pre>array([&#x27;1850-01-01T12:00:00.000000000&#x27;, &#x27;1850-01-02T12:00:00.000000000&#x27;,\n",
       "       &#x27;1850-01-03T12:00:00.000000000&#x27;, ..., &#x27;2014-12-29T12:00:00.000000000&#x27;,\n",
       "       &#x27;2014-12-30T12:00:00.000000000&#x27;, &#x27;2014-12-31T12:00:00.000000000&#x27;],\n",
       "      dtype=&#x27;datetime64[ns]&#x27;)</pre></div></li><li class='xr-var-item'><div class='xr-var-name'><span class='xr-has-index'>lat</span></div><div class='xr-var-dims'>(lat)</div><div class='xr-var-dtype'>float64</div><div class='xr-var-preview xr-preview'>-25.23</div><input id='attrs-503168f0-5cbf-4fc8-92be-7ac318f6c0ed' class='xr-var-attrs-in' type='checkbox' ><label for='attrs-503168f0-5cbf-4fc8-92be-7ac318f6c0ed' title='Show/Hide attributes'><svg class='icon xr-icon-file-text2'><use xlink:href='#icon-file-text2'></use></svg></label><input id='data-4095baeb-3547-49aa-973a-6850ea17c750' class='xr-var-data-in' type='checkbox'><label for='data-4095baeb-3547-49aa-973a-6850ea17c750' title='Show/Hide data repr'><svg class='icon xr-icon-database'><use xlink:href='#icon-database'></use></svg></label><div class='xr-var-attrs'><dl class='xr-attrs'><dt><span>long_name :</span></dt><dd>Latitude</dd><dt><span>axis :</span></dt><dd>Y</dd><dt><span>standard_name :</span></dt><dd>latitude</dd><dt><span>bounds :</span></dt><dd>lat_bnds</dd><dt><span>units :</span></dt><dd>degrees_north</dd></dl></div><div class='xr-var-data'><pre>array([-25.233514])</pre></div></li><li class='xr-var-item'><div class='xr-var-name'><span class='xr-has-index'>lon</span></div><div class='xr-var-dims'>(lon)</div><div class='xr-var-dtype'>float64</div><div class='xr-var-preview xr-preview'>32.62</div><input id='attrs-45f10401-0814-4304-8b6a-b9cf42215583' class='xr-var-attrs-in' type='checkbox' ><label for='attrs-45f10401-0814-4304-8b6a-b9cf42215583' title='Show/Hide attributes'><svg class='icon xr-icon-file-text2'><use xlink:href='#icon-file-text2'></use></svg></label><input id='data-13fc4a1f-cfa4-4e56-a084-147a6878d352' class='xr-var-data-in' type='checkbox'><label for='data-13fc4a1f-cfa4-4e56-a084-147a6878d352' title='Show/Hide data repr'><svg class='icon xr-icon-database'><use xlink:href='#icon-database'></use></svg></label><div class='xr-var-attrs'><dl class='xr-attrs'><dt><span>long_name :</span></dt><dd>Longitude</dd><dt><span>axis :</span></dt><dd>X</dd><dt><span>standard_name :</span></dt><dd>longitude</dd><dt><span>bounds :</span></dt><dd>lon_bnds</dd><dt><span>units :</span></dt><dd>degrees_east</dd></dl></div><div class='xr-var-data'><pre>array([32.625])</pre></div></li></ul></div></li><li class='xr-section-item'><input id='section-5eb37be4-663e-4f45-86a8-0008abf5f355' class='xr-section-summary-in' type='checkbox'  checked><label for='section-5eb37be4-663e-4f45-86a8-0008abf5f355' class='xr-section-summary' >Data variables: <span>(4)</span></label><div class='xr-section-inline-details'></div><div class='xr-section-details'><ul class='xr-var-list'><li class='xr-var-item'><div class='xr-var-name'><span>time_bnds</span></div><div class='xr-var-dims'>(time, bnds)</div><div class='xr-var-dtype'>datetime64[ns]</div><div class='xr-var-preview xr-preview'>...</div><input id='attrs-5918ecbb-28a6-42b2-aaf2-be417ef2d8eb' class='xr-var-attrs-in' type='checkbox' disabled><label for='attrs-5918ecbb-28a6-42b2-aaf2-be417ef2d8eb' title='Show/Hide attributes'><svg class='icon xr-icon-file-text2'><use xlink:href='#icon-file-text2'></use></svg></label><input id='data-7d8323a9-ac99-4ebb-ba70-407be0607c28' class='xr-var-data-in' type='checkbox'><label for='data-7d8323a9-ac99-4ebb-ba70-407be0607c28' title='Show/Hide data repr'><svg class='icon xr-icon-database'><use xlink:href='#icon-database'></use></svg></label><div class='xr-var-attrs'><dl class='xr-attrs'></dl></div><div class='xr-var-data'><pre>[120530 values with dtype=datetime64[ns]]</pre></div></li><li class='xr-var-item'><div class='xr-var-name'><span>lat_bnds</span></div><div class='xr-var-dims'>(time, lat, bnds)</div><div class='xr-var-dtype'>float64</div><div class='xr-var-preview xr-preview'>...</div><input id='attrs-fa46fdfd-fad8-47de-b5d2-e813d90b3b9f' class='xr-var-attrs-in' type='checkbox' disabled><label for='attrs-fa46fdfd-fad8-47de-b5d2-e813d90b3b9f' title='Show/Hide attributes'><svg class='icon xr-icon-file-text2'><use xlink:href='#icon-file-text2'></use></svg></label><input id='data-d4b8ccfa-94fc-486b-9b5f-ede4737228a4' class='xr-var-data-in' type='checkbox'><label for='data-d4b8ccfa-94fc-486b-9b5f-ede4737228a4' title='Show/Hide data repr'><svg class='icon xr-icon-database'><use xlink:href='#icon-database'></use></svg></label><div class='xr-var-attrs'><dl class='xr-attrs'></dl></div><div class='xr-var-data'><pre>[120530 values with dtype=float64]</pre></div></li><li class='xr-var-item'><div class='xr-var-name'><span>lon_bnds</span></div><div class='xr-var-dims'>(time, lon, bnds)</div><div class='xr-var-dtype'>float64</div><div class='xr-var-preview xr-preview'>...</div><input id='attrs-3911a1a7-4103-4393-aa67-a89b27735672' class='xr-var-attrs-in' type='checkbox' disabled><label for='attrs-3911a1a7-4103-4393-aa67-a89b27735672' title='Show/Hide attributes'><svg class='icon xr-icon-file-text2'><use xlink:href='#icon-file-text2'></use></svg></label><input id='data-65aa8178-267a-412c-990e-ddef5dd7eac1' class='xr-var-data-in' type='checkbox'><label for='data-65aa8178-267a-412c-990e-ddef5dd7eac1' title='Show/Hide data repr'><svg class='icon xr-icon-database'><use xlink:href='#icon-database'></use></svg></label><div class='xr-var-attrs'><dl class='xr-attrs'></dl></div><div class='xr-var-data'><pre>[120530 values with dtype=float64]</pre></div></li><li class='xr-var-item'><div class='xr-var-name'><span>pr</span></div><div class='xr-var-dims'>(time, lat, lon)</div><div class='xr-var-dtype'>float32</div><div class='xr-var-preview xr-preview'>...</div><input id='attrs-cb8f5ccb-1686-4c84-a45d-02f902f966a5' class='xr-var-attrs-in' type='checkbox' ><label for='attrs-cb8f5ccb-1686-4c84-a45d-02f902f966a5' title='Show/Hide attributes'><svg class='icon xr-icon-file-text2'><use xlink:href='#icon-file-text2'></use></svg></label><input id='data-74580cd6-edb7-46f1-9e00-0e4478371596' class='xr-var-data-in' type='checkbox'><label for='data-74580cd6-edb7-46f1-9e00-0e4478371596' title='Show/Hide data repr'><svg class='icon xr-icon-database'><use xlink:href='#icon-database'></use></svg></label><div class='xr-var-attrs'><dl class='xr-attrs'><dt><span>long_name :</span></dt><dd>Precipitation</dd><dt><span>standard_name :</span></dt><dd>precipitation_flux</dd><dt><span>cell_measures :</span></dt><dd>area: areacella</dd><dt><span>cell_methods :</span></dt><dd>area: time: mean</dd><dt><span>comment :</span></dt><dd>includes both liquid and solid phases</dd><dt><span>units :</span></dt><dd>kg m-2 s-1</dd><dt><span>history :</span></dt><dd>2020-02-17T13:29:50Z altered by CMOR: Reordered dimensions, original order: lat lon time.</dd></dl></div><div class='xr-var-data'><pre>[60265 values with dtype=float32]</pre></div></li></ul></div></li><li class='xr-section-item'><input id='section-145774f2-4107-43d9-ba22-e94c58030e2c' class='xr-section-summary-in' type='checkbox'  ><label for='section-145774f2-4107-43d9-ba22-e94c58030e2c' class='xr-section-summary' >Indexes: <span>(3)</span></label><div class='xr-section-inline-details'></div><div class='xr-section-details'><ul class='xr-var-list'><li class='xr-var-item'><div class='xr-index-name'><div>time</div></div><div class='xr-index-preview'>PandasIndex</div><div></div><input id='index-70eb1fa5-ede5-4c18-b748-f78cf9418497' class='xr-index-data-in' type='checkbox'/><label for='index-70eb1fa5-ede5-4c18-b748-f78cf9418497' title='Show/Hide index repr'><svg class='icon xr-icon-database'><use xlink:href='#icon-database'></use></svg></label><div class='xr-index-data'><pre>PandasIndex(DatetimeIndex([&#x27;1850-01-01 12:00:00&#x27;, &#x27;1850-01-02 12:00:00&#x27;,\n",
       "               &#x27;1850-01-03 12:00:00&#x27;, &#x27;1850-01-04 12:00:00&#x27;,\n",
       "               &#x27;1850-01-05 12:00:00&#x27;, &#x27;1850-01-06 12:00:00&#x27;,\n",
       "               &#x27;1850-01-07 12:00:00&#x27;, &#x27;1850-01-08 12:00:00&#x27;,\n",
       "               &#x27;1850-01-09 12:00:00&#x27;, &#x27;1850-01-10 12:00:00&#x27;,\n",
       "               ...\n",
       "               &#x27;2014-12-22 12:00:00&#x27;, &#x27;2014-12-23 12:00:00&#x27;,\n",
       "               &#x27;2014-12-24 12:00:00&#x27;, &#x27;2014-12-25 12:00:00&#x27;,\n",
       "               &#x27;2014-12-26 12:00:00&#x27;, &#x27;2014-12-27 12:00:00&#x27;,\n",
       "               &#x27;2014-12-28 12:00:00&#x27;, &#x27;2014-12-29 12:00:00&#x27;,\n",
       "               &#x27;2014-12-30 12:00:00&#x27;, &#x27;2014-12-31 12:00:00&#x27;],\n",
       "              dtype=&#x27;datetime64[ns]&#x27;, name=&#x27;time&#x27;, length=60265, freq=None))</pre></div></li><li class='xr-var-item'><div class='xr-index-name'><div>lat</div></div><div class='xr-index-preview'>PandasIndex</div><div></div><input id='index-1d360f72-adda-4c20-95bb-602a820aac85' class='xr-index-data-in' type='checkbox'/><label for='index-1d360f72-adda-4c20-95bb-602a820aac85' title='Show/Hide index repr'><svg class='icon xr-icon-database'><use xlink:href='#icon-database'></use></svg></label><div class='xr-index-data'><pre>PandasIndex(Index([-25.2335138363243], dtype=&#x27;float64&#x27;, name=&#x27;lat&#x27;))</pre></div></li><li class='xr-var-item'><div class='xr-index-name'><div>lon</div></div><div class='xr-index-preview'>PandasIndex</div><div></div><input id='index-2be73863-0c93-47f6-b9ae-6e58bbad6437' class='xr-index-data-in' type='checkbox'/><label for='index-2be73863-0c93-47f6-b9ae-6e58bbad6437' title='Show/Hide index repr'><svg class='icon xr-icon-database'><use xlink:href='#icon-database'></use></svg></label><div class='xr-index-data'><pre>PandasIndex(Index([32.625], dtype=&#x27;float64&#x27;, name=&#x27;lon&#x27;))</pre></div></li></ul></div></li><li class='xr-section-item'><input id='section-076ab4f1-9fac-49f1-964b-33462c7f872c' class='xr-section-summary-in' type='checkbox'  ><label for='section-076ab4f1-9fac-49f1-964b-33462c7f872c' class='xr-section-summary' >Attributes: <span>(45)</span></label><div class='xr-section-inline-details'></div><div class='xr-section-details'><dl class='xr-attrs'><dt><span>Conventions :</span></dt><dd>CF-1.7 CMIP-6.2</dd><dt><span>activity_id :</span></dt><dd>CMIP</dd><dt><span>branch_method :</span></dt><dd>standard</dd><dt><span>branch_time_in_child :</span></dt><dd>0.0</dd><dt><span>contact :</span></dt><dd>cmip6-data@ec-earth.org</dd><dt><span>creation_date :</span></dt><dd>2020-02-17T13:29:51Z</dd><dt><span>data_specs_version :</span></dt><dd>01.00.31</dd><dt><span>experiment :</span></dt><dd>all-forcing simulation of the recent past</dd><dt><span>experiment_id :</span></dt><dd>historical</dd><dt><span>external_variables :</span></dt><dd>areacella</dd><dt><span>forcing_index :</span></dt><dd>1</dd><dt><span>frequency :</span></dt><dd>day</dd><dt><span>further_info_url :</span></dt><dd>https://furtherinfo.es-doc.org/CMIP6.EC-Earth-Consortium.EC-Earth3-Veg-LR.historical.none.r1i1p1f1</dd><dt><span>grid :</span></dt><dd>T159L62-ORCA1L75</dd><dt><span>grid_label :</span></dt><dd>gr</dd><dt><span>history :</span></dt><dd>2020-02-17T13:29:51Z ; CMOR rewrote data to be consistent with CMIP6, CF-1.7 CMIP-6.2 and CF standards.;\n",
       "processed by ece2cmor v1.3.0, git rev. 1dffae19d25e71b416496a3126a26ef2cf46f87a-changes\n",
       "</dd><dt><span>initialization_index :</span></dt><dd>1</dd><dt><span>institution :</span></dt><dd>AEMET, Spain; BSC, Spain; CNR-ISAC, Italy; DMI, Denmark; ENEA, Italy; FMI, Finland; Geomar, Germany; ICHEC, Ireland; ICTP, Italy; IDL, Portugal; IMAU, The Netherlands; IPMA, Portugal; KIT, Karlsruhe, Germany; KNMI, The Netherlands; Lund University, Sweden; Met Eireann, Ireland; NLeSC, The Netherlands; NTNU, Norway; Oxford University, UK; surfSARA, The Netherlands; SMHI, Sweden; Stockholm University, Sweden; Unite ASTR, Belgium; University College Dublin, Ireland; University of Bergen, Norway; University of Copenhagen, Denmark; University of Helsinki, Finland; University of Santiago de Compostela, Spain; Uppsala University, Sweden; Utrecht University, The Netherlands; Vrije Universiteit Amsterdam, the Netherlands; Wageningen University, The Netherlands. Mailing address: EC-Earth consortium, Rossby Center, Swedish Meteorological and Hydrological Institute/SMHI, SE-601 76 Norrkoping, Sweden</dd><dt><span>institution_id :</span></dt><dd>EC-Earth-Consortium</dd><dt><span>mip_era :</span></dt><dd>CMIP6</dd><dt><span>nominal_resolution :</span></dt><dd>250 km</dd><dt><span>parent_activity_id :</span></dt><dd>CMIP</dd><dt><span>parent_experiment_id :</span></dt><dd>piControl</dd><dt><span>parent_mip_era :</span></dt><dd>CMIP6</dd><dt><span>parent_source_id :</span></dt><dd>EC-Earth3-Veg-LR</dd><dt><span>parent_time_units :</span></dt><dd>days since 1850-01-01</dd><dt><span>parent_variant_label :</span></dt><dd>r1i1p1f1</dd><dt><span>physics_index :</span></dt><dd>1</dd><dt><span>product :</span></dt><dd>model-output</dd><dt><span>realization_index :</span></dt><dd>1</dd><dt><span>realm :</span></dt><dd>atmos</dd><dt><span>source :</span></dt><dd>EC-Earth3-Veg-LR (2019): \n",
       "aerosol: none\n",
       "atmos: IFS cy36r4 (TL159, linearly reduced Gaussian grid equivalent to 320 x 160 longitude/latitude; 62 levels; top level 5 hPa)\n",
       "atmosChem: none\n",
       "land: HTESSEL (land surface scheme built in IFS) and LPJ-GUESS v4\n",
       "landIce: none\n",
       "ocean: NEMO3.6 (ORCA1 tripolar primarily 1 degree with meridional refinement down to 1/3 degree in the tropics; 362 x 292 longitude/latitude; 75 levels; top grid cell 0-1 m)\n",
       "ocnBgchem: none\n",
       "seaIce: LIM3</dd><dt><span>source_id :</span></dt><dd>EC-Earth3-Veg-LR</dd><dt><span>source_type :</span></dt><dd>AOGCM</dd><dt><span>sub_experiment :</span></dt><dd>none</dd><dt><span>sub_experiment_id :</span></dt><dd>none</dd><dt><span>table_id :</span></dt><dd>day</dd><dt><span>table_info :</span></dt><dd>Creation Date:(24 July 2019) MD5:70649eeb16bc90c431e35b583fac7375</dd><dt><span>title :</span></dt><dd>EC-Earth3-Veg-LR output prepared for CMIP6</dd><dt><span>variable_id :</span></dt><dd>pr</dd><dt><span>variant_label :</span></dt><dd>r1i1p1f1</dd><dt><span>license :</span></dt><dd>CMIP6 model data produced by EC-Earth-Consortium is licensed under a Creative Commons Attribution-ShareAlike 4.0 International License (https://creativecommons.org/licenses). Consult https://pcmdi.llnl.gov/CMIP6/TermsOfUse for terms of use governing CMIP6 output, including citation requirements and proper acknowledgment. Further information about this data, including some limitations, can be found via the further_info_url (recorded as a global attribute in this file) and at http://www.ec-earth.org. The data producers and data providers make no warranty, either express or implied, including, but not limited to, warranties of merchantability and fitness for a particular purpose. All liabilities arising from the supply of the information (including any liability arising in negligence) are excluded to the fullest extent permitted by law.</dd><dt><span>cmor_version :</span></dt><dd>3.5.0</dd><dt><span>branch_time_in_parent :</span></dt><dd>164359.0</dd><dt><span>tracking_id :</span></dt><dd>hdl:21.14100/037c3f46-ad12-415a-bfaf-812c1bf9662f</dd></dl></div></li></ul></div></div>"
      ],
      "text/plain": [
       "<xarray.Dataset>\n",
       "Dimensions:    (time: 60265, bnds: 2, lat: 1, lon: 1)\n",
       "Coordinates:\n",
       "  * time       (time) datetime64[ns] 1850-01-01T12:00:00 ... 2014-12-31T12:00:00\n",
       "  * lat        (lat) float64 -25.23\n",
       "  * lon        (lon) float64 32.62\n",
       "Dimensions without coordinates: bnds\n",
       "Data variables:\n",
       "    time_bnds  (time, bnds) datetime64[ns] ...\n",
       "    lat_bnds   (time, lat, bnds) float64 ...\n",
       "    lon_bnds   (time, lon, bnds) float64 ...\n",
       "    pr         (time, lat, lon) float32 ...\n",
       "Attributes: (12/45)\n",
       "    Conventions:            CF-1.7 CMIP-6.2\n",
       "    activity_id:            CMIP\n",
       "    branch_method:          standard\n",
       "    branch_time_in_child:   0.0\n",
       "    contact:                cmip6-data@ec-earth.org\n",
       "    creation_date:          2020-02-17T13:29:51Z\n",
       "    ...                     ...\n",
       "    variable_id:            pr\n",
       "    variant_label:          r1i1p1f1\n",
       "    license:                CMIP6 model data produced by EC-Earth-Consortium ...\n",
       "    cmor_version:           3.5.0\n",
       "    branch_time_in_parent:  164359.0\n",
       "    tracking_id:            hdl:21.14100/037c3f46-ad12-415a-bfaf-812c1bf9662f"
      ]
     },
     "execution_count": 24,
     "metadata": {},
     "output_type": "execute_result"
    }
   ],
   "source": [
    "# read five nc files\n",
    "import xarray as xr\n",
    "reanalysis_data = xr.open_dataset('./Mozambique_Maputo_gcm_historical/pr_day_EC-Earth3-Veg-LR_historical_r1i1p1f1_gr_18500101-20141231_v20200217.nc')\n",
    "reanalysis_data"
   ]
  },
  {
   "cell_type": "code",
   "execution_count": 25,
   "id": "47c8614c-ec26-4920-bc56-ed766b6d658c",
   "metadata": {},
   "outputs": [],
   "source": [
    "reanalysis_data['pr'] = reanalysis_data['pr'] * 86400"
   ]
  },
  {
   "cell_type": "code",
   "execution_count": 26,
   "id": "99974084-4517-4d27-aedf-b91706f5b86f",
   "metadata": {},
   "outputs": [
    {
     "data": {
      "image/png": "[encoded data removed]",
      "text/plain": [
       "<Figure size 1500x500 with 1 Axes>"
      ]
     },
     "metadata": {},
     "output_type": "display_data"
    }
   ],
   "source": [
    "import matplotlib.pyplot as plt\n",
    "# plot\n",
    "fig, ax = plt.subplots(figsize=(15,5))\n",
    "x=reanalysis_data.time.values\n",
    "y=reanalysis_data.pr.values[:,0,0]\n",
    "\n",
    "ax.plot(x, y, linewidth=2.0)\n",
    "plt.show()"
   ]
  },
  {
   "cell_type": "markdown",
   "id": "94c449eb",
   "metadata": {},
   "source": [
    "## 2. Download GCM SSP Scenario data"
   ]
  },
  {
   "cell_type": "markdown",
   "id": "06f3ac6a",
   "metadata": {},
   "source": [
    "### 2.1 Set Temporal Resolution"
   ]
  },
  {
   "cell_type": "markdown",
   "id": "e946d195",
   "metadata": {},
   "source": [
    "<img src=\"../figures/CMIP6_1.PNG\" width=\"1100\">"
   ]
  },
  {
   "cell_type": "code",
   "execution_count": 27,
   "id": "94d4c2aa",
   "metadata": {},
   "outputs": [],
   "source": [
    "temporal_resolution = \"daily\""
   ]
  },
  {
   "cell_type": "markdown",
   "id": "3952c776",
   "metadata": {},
   "source": [
    "### 2.2 Set Experiment \"SSP3-7.0\""
   ]
  },
  {
   "cell_type": "markdown",
   "id": "ec996ef3",
   "metadata": {},
   "source": [
    "<img src=\"../figures/CMIP6_2.PNG\" width=\"1100\">"
   ]
  },
  {
   "cell_type": "code",
   "execution_count": null,
   "id": "574b4b7e",
   "metadata": {},
   "outputs": [],
   "source": [
    "experiment = 'ssp3_7_0'"
   ]
  },
  {
   "cell_type": "markdown",
   "id": "b724e6c6",
   "metadata": {},
   "source": [
    "### 1.3 Set Level"
   ]
  },
  {
   "cell_type": "markdown",
   "id": "2737d2c6",
   "metadata": {},
   "source": [
    "<img src=\"../figures/CMIP6_3.PNG\" width=\"1100\">"
   ]
  },
  {
   "cell_type": "code",
   "execution_count": null,
   "id": "7f056778",
   "metadata": {},
   "outputs": [],
   "source": [
    "level = \"single_levels\"     "
   ]
  },
  {
   "cell_type": "markdown",
   "id": "1f2fdc0c",
   "metadata": {},
   "source": [
    "### 1.4 Set Variable (example: precipitation)"
   ]
  },
  {
   "cell_type": "markdown",
   "id": "729dfd14",
   "metadata": {},
   "source": [
    "<img src=\"../figures/CMIP6_4.PNG\" width=\"1100\">"
   ]
  },
  {
   "cell_type": "code",
   "execution_count": null,
   "id": "559e1a16",
   "metadata": {},
   "outputs": [],
   "source": [
    "variable = 'precipitation',"
   ]
  },
  {
   "cell_type": "markdown",
   "id": "9402f815",
   "metadata": {},
   "source": [
    "### 1.5 Set Model (example: HadGEM3-GC31-MM(UK))"
   ]
  },
  {
   "cell_type": "markdown",
   "id": "e91b6665",
   "metadata": {},
   "source": [
    "<img src=\"../figures/CMIP6_5.PNG\" width=\"1100\">"
   ]
  },
  {
   "cell_type": "code",
   "execution_count": null,
   "id": "c7158424",
   "metadata": {},
   "outputs": [],
   "source": [
    "model =  'ec_earth3_veg_lr'"
   ]
  },
  {
   "cell_type": "markdown",
   "id": "2a66baa6",
   "metadata": {},
   "source": [
    "### 1.6 Set Temporal subset: 2022-01-01 ~ 2100-12-31\n",
    "\n",
    " * Set \"Temporal range\""
   ]
  },
  {
   "cell_type": "markdown",
   "id": "a0d2118f",
   "metadata": {},
   "source": [
    "<img src=\"../figures/CMIP6_6.PNG\" width=\"1100\">"
   ]
  },
  {
   "cell_type": "markdown",
   "id": "d5a73228",
   "metadata": {},
   "source": [
    "### 7. Set Geographical Area (example: Mozambique Maputo - North:-25, South:-26, West:32, East:33)"
   ]
  },
  {
   "cell_type": "markdown",
   "id": "24fb1cce",
   "metadata": {},
   "source": [
    "<img src=\"../figures/CMIP6_7.PNG\" width=\"1100\">"
   ]
  },
  {
   "cell_type": "code",
   "execution_count": null,
   "id": "62e21896",
   "metadata": {},
   "outputs": [],
   "source": [
    "area = [-25, 32, -26, 33, ]"
   ]
  },
  {
   "cell_type": "code",
   "execution_count": null,
   "id": "46cf18d8",
   "metadata": {},
   "outputs": [],
   "source": [
    "c.retrieve(\n",
    "    'projections-cmip6',\n",
    "    {\n",
    "        'format': 'zip',\n",
    "        'temporal_resolution': temporal_resolution,\n",
    "        'experiment': experiment,\n",
    "        'level': level,\n",
    "        'variable': variable,\n",
    "        'model': model,\n",
    "        'date': '2022-01-01/2100-12-31',\n",
    "        'area': area,\n",
    "    },\n",
    "    'Mozambique_Maputo_gcm_ssp3.zip')"
   ]
  },
  {
   "cell_type": "code",
   "execution_count": null,
   "id": "145a4208",
   "metadata": {},
   "outputs": [],
   "source": []
  }
 ],
 "metadata": {
  "kernelspec": {
   "display_name": "Python 3 (ipykernel)",
   "language": "python",
   "name": "python3"
  },
  "language_info": {
   "codemirror_mode": {
    "name": "ipython",
    "version": 3
   },
   "file_extension": ".py",
   "mimetype": "text/x-python",
   "name": "python",
   "nbconvert_exporter": "python",
   "pygments_lexer": "ipython3",
   "version": "3.10.13"
  },
  "vscode": {
   "interpreter": {
    "hash": "6da62e51a3e154d6d9270ee98e56fb6b92435542159668c3a97bc246d2a4f9f1"
   }
  }
 },
 "nbformat": 4,
 "nbformat_minor": 5
}
